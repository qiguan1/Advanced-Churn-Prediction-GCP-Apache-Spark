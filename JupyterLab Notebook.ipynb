{
  {
   "cell_type": "code",
   "execution_count": null,
   "metadata": {
    "id": "w6t5DJzmvZmg"
   },
   "outputs": [],
   "source": [
    "from pyspark.sql import SparkSession"
   ]
  },
  {
   "cell_type": "markdown",
   "metadata": {
    "id": "OF12UjJMvZmi"
   },
   "source": [
    "# 1. Initialize Spark session and import data from BigQuery"
   ]
  },
  {
   "cell_type": "code",
   "execution_count": null,
   "metadata": {
    "id": "T7QuvEqevZmi"
   },
   "outputs": [],
   "source": [
    "# start Spark session\n",
    "spark = SparkSession \\\n",
    "  .builder \\\n",
    "  .master('yarn') \\\n",
    "  .appName('kkbox-app') \\\n",
    "  .getOrCreate()\n"
   ]
  },
  {
   "cell_type": "code",
   "execution_count": null,
   "metadata": {
    "id": "GDdTv-66vZmj"
   },
   "outputs": [],
   "source": [
    "bucket = \"bax423\"\n",
    "spark.conf.set('temporaryGcsBucket', bucket)"
   ]
  },
  {
   "cell_type": "code",
   "execution_count": null,
   "metadata": {
    "id": "x0o7aAQUvZmj"
   },
   "outputs": [],
   "source": [
    "# Load training data from BigQuery.\n",
    "train_v2 = spark.read.format('bigquery') \\\n",
    "  .option('table', 'massive-mantra-310705:kkbox.train_v2') \\\n",
    "  .load()\n",
    "train_v2.createOrReplaceTempView('train_v2')"
   ]
  },
  {
   "cell_type": "code",
   "execution_count": null,
   "metadata": {
    "id": "rzP4nv-HvZmj",
    "outputId": "b98544cd-fb74-4871-cedf-b20dd4bc4bea"
   },
   "outputs": [
    {
     "name": "stdout",
     "output_type": "stream",
     "text": [
      "+--------------------+--------+\n",
      "|                msno|is_churn|\n",
      "+--------------------+--------+\n",
      "|+++hVY1rZox/33Ytv...|       0|\n",
      "|+++l/EXNMLTijfLBa...|       0|\n",
      "|+++snpr7pmobhLKUg...|       0|\n",
      "|++/9R3sX37CjxbY/A...|       0|\n",
      "|++/UDNo9DLrxT8QVG...|       0|\n",
      "|++/ZHqwUNa7U21Qz+...|       0|\n",
      "|++0/NopttBsaAn6qH...|       0|\n",
      "|++0BJXY8tpirgIhJR...|       0|\n",
      "|++0EzISdtKY48Z0GY...|       0|\n",
      "|++0nOC7BmrUTtcSbo...|       0|\n",
      "|++0wqjjQge1mBBe5r...|       0|\n",
      "|++1G0wVY14Lp0VXak...|       0|\n",
      "|++1GCIyXZO7834NjD...|       0|\n",
      "|++1Wu2wKBA60W9F9s...|       0|\n",
      "|++2Ju1OdxLSyexwhZ...|       0|\n",
      "|++38dVm0EHKCOfND6...|       0|\n",
      "|++3A6JMzYJeron30G...|       0|\n",
      "|++3Z+W8OPnpbHYfrK...|       0|\n",
      "|++3fWHRDC5GWWlovH...|       0|\n",
      "|++3wqX72HmowxFh5M...|       0|\n",
      "+--------------------+--------+\n",
      "only showing top 20 rows\n",
      "\n",
      "root\n",
      " |-- msno: string (nullable = true)\n",
      " |-- is_churn: long (nullable = true)\n",
      "\n"
     ]
    }
   ],
   "source": [
    "# Validate Data\n",
    "train = spark.sql(\n",
    "    'SELECT * FROM train_v2 ORDER BY msno')\n",
    "train.show()\n",
    "train.printSchema()"
   ]
  },
  {
   "cell_type": "code",
   "execution_count": null,
   "metadata": {
    "id": "cPRItnwbvZmk"
   },
   "outputs": [],
   "source": [
    "# Load transaction data from BigQuery.\n",
    "transactions_v2 = spark.read.format('bigquery') \\\n",
    "  .option('table', 'massive-mantra-310705:kkbox.transactions_v2') \\\n",
    "  .load()\n",
    "transactions_v2.createOrReplaceTempView('transactions_v2')"
   ]
  },
  {
   "cell_type": "code",
   "execution_count": null,
   "metadata": {
    "id": "1Sy1BFkLvZmk",
    "outputId": "ba3b2af7-1898-42e6-f9d5-72f6e687a8dc"
   },
   "outputs": [
    {
     "name": "stdout",
     "output_type": "stream",
     "text": [
      "+--------------------+-----------------+-----------------+---------------+------------------+-------------+----------------+----------------------+---------+\n",
      "|                msno|payment_method_id|payment_plan_days|plan_list_price|actual_amount_paid|is_auto_renew|transaction_date|membership_expire_date|is_cancel|\n",
      "+--------------------+-----------------+-----------------+---------------+------------------+-------------+----------------+----------------------+---------+\n",
      "|+++IZseRRiQS9aaSk...|               22|              395|           1599|              1599|            0|        20161023|              20180206|        0|\n",
      "|+++hVY1rZox/33Ytv...|               41|               30|             99|                99|            1|        20170315|              20170415|        0|\n",
      "|+++l/EXNMLTijfLBa...|               39|               30|            149|               149|            1|        20170331|              20170519|        0|\n",
      "|+++l/EXNMLTijfLBa...|               39|               30|            149|               149|            1|        20170228|              20170419|        0|\n",
      "|+++snpr7pmobhLKUg...|               41|               30|            149|               149|            1|        20170326|              20170426|        0|\n",
      "|++/9R3sX37CjxbY/A...|               41|               30|            149|               149|            1|        20170315|              20170415|        0|\n",
      "|++/UDNo9DLrxT8QVG...|               39|               30|            149|               149|            1|        20170331|              20170523|        0|\n",
      "|++/UDNo9DLrxT8QVG...|               39|               30|            149|               149|            1|        20170228|              20170423|        0|\n",
      "|++/ZHqwUNa7U21Qz+...|               14|               30|            149|               149|            1|        20170331|              20170504|        0|\n",
      "|++/ZHqwUNa7U21Qz+...|               14|               30|            149|               149|            1|        20170228|              20170404|        0|\n",
      "|++0+IdHga8fCSioOV...|               32|              410|           1788|              1788|            0|        20160704|              20170821|        0|\n",
      "|++0/NopttBsaAn6qH...|               41|               30|            149|               149|            1|        20170320|              20170420|        0|\n",
      "|++0BJXY8tpirgIhJR...|               38|               30|            149|               149|            0|        20170327|              20170426|        0|\n",
      "|++0EzISdtKY48Z0GY...|               38|               30|            149|               149|            0|        20170301|              20170331|        0|\n",
      "|++0nOC7BmrUTtcSbo...|               40|               30|            149|               149|            1|        20170306|              20170414|        0|\n",
      "|++0wqjjQge1mBBe5r...|               41|               30|             99|                99|            1|        20170306|              20170406|        0|\n",
      "|++1G0wVY14Lp0VXak...|               41|               30|             99|                99|            1|        20170309|              20170409|        0|\n",
      "|++1GCIyXZO7834NjD...|               41|               30|             99|                99|            1|        20170304|              20170404|        0|\n",
      "|++1Wu2wKBA60W9F9s...|               41|               30|             99|                99|            1|        20170321|              20170421|        0|\n",
      "|++2Ju1OdxLSyexwhZ...|               41|               30|             99|                99|            1|        20170312|              20170412|        0|\n",
      "+--------------------+-----------------+-----------------+---------------+------------------+-------------+----------------+----------------------+---------+\n",
      "only showing top 20 rows\n",
      "\n",
      "root\n",
      " |-- msno: string (nullable = true)\n",
      " |-- payment_method_id: long (nullable = true)\n",
      " |-- payment_plan_days: long (nullable = true)\n",
      " |-- plan_list_price: long (nullable = true)\n",
      " |-- actual_amount_paid: long (nullable = true)\n",
      " |-- is_auto_renew: long (nullable = true)\n",
      " |-- transaction_date: long (nullable = true)\n",
      " |-- membership_expire_date: long (nullable = true)\n",
      " |-- is_cancel: long (nullable = true)\n",
      "\n"
     ]
    }
   ],
   "source": [
    "# Validate Data\n",
    "transactions = spark.sql(\n",
    "    'SELECT * FROM transactions_v2 ORDER BY msno')\n",
    "transactions.show()\n",
    "transactions.printSchema()"
   ]
  },
  {
   "cell_type": "code",
   "execution_count": null,
   "metadata": {
    "id": "isBri05_vZmk"
   },
   "outputs": [],
   "source": [
    "# Load user_logs data from BigQuery.\n",
    "user_logs_v2 = spark.read.format('bigquery') \\\n",
    "  .option('table', 'massive-mantra-310705:kkbox.user_logs_v2') \\\n",
    "  .load()\n",
    "user_logs_v2.createOrReplaceTempView('user_logs_v2')"
   ]
  },
  {
   "cell_type": "code",
   "execution_count": null,
   "metadata": {
    "id": "A0gqF1cCvZml",
    "outputId": "a0a4e6cf-5756-49be-9170-d979a57de73e"
   },
   "outputs": [
    {
     "name": "stdout",
     "output_type": "stream",
     "text": [
      "+--------------------+--------+------+------+------+-------+-------+-------+----------+\n",
      "|                msno|    date|num_25|num_50|num_75|num_985|num_100|num_unq|total_secs|\n",
      "+--------------------+--------+------+------+------+-------+-------+-------+----------+\n",
      "|+++IZseRRiQS9aaSk...|20170329|     3|     0|     0|      1|      8|     11|  1949.344|\n",
      "|+++IZseRRiQS9aaSk...|20170312|     1|     0|     0|      0|      3|      4|   796.512|\n",
      "|+++IZseRRiQS9aaSk...|20170328|     1|     0|     0|      0|      2|      3|   461.217|\n",
      "|+++IZseRRiQS9aaSk...|20170320|     8|     1|     1|      0|     34|     38|  8018.121|\n",
      "|+++IZseRRiQS9aaSk...|20170331|     2|     1|     1|      0|     11|     15|  2823.625|\n",
      "|+++IZseRRiQS9aaSk...|20170326|    10|     0|     1|      0|     10|     16|  2800.156|\n",
      "|+++IZseRRiQS9aaSk...|20170308|     0|     1|     0|      0|      6|      6|  1632.781|\n",
      "|+++IZseRRiQS9aaSk...|20170330|     1|     1|     2|      1|     15|     18|  3884.364|\n",
      "|+++IZseRRiQS9aaSk...|20170310|     3|     0|     0|      0|      3|      6|    832.03|\n",
      "|+++IZseRRiQS9aaSk...|20170318|     2|     0|     0|      0|      2|      3|   579.228|\n",
      "|+++IZseRRiQS9aaSk...|20170316|     0|     0|     0|      0|      4|      4|     927.0|\n",
      "|+++IZseRRiQS9aaSk...|20170317|     1|     1|     0|      0|      4|      4|  1126.409|\n",
      "|+++IZseRRiQS9aaSk...|20170315|     1|     0|     0|      0|      8|      1|  1998.191|\n",
      "|+++IZseRRiQS9aaSk...|20170324|     3|     0|     1|      0|     56|     59| 14766.857|\n",
      "|+++IZseRRiQS9aaSk...|20170305|     0|     0|     0|      0|      1|      1|    230.29|\n",
      "|+++IZseRRiQS9aaSk...|20170302|     2|     0|     0|      0|     12|     12|  2882.769|\n",
      "|+++IZseRRiQS9aaSk...|20170311|     8|     0|     1|      0|     29|     38|  7589.212|\n",
      "|+++IZseRRiQS9aaSk...|20170322|     6|     0|     0|      1|     10|     16|  2827.813|\n",
      "|+++IZseRRiQS9aaSk...|20170323|     7|     1|     0|      0|     12|     18|  3010.591|\n",
      "|+++IZseRRiQS9aaSk...|20170304|     7|     2|     1|      0|      9|     16|  2582.182|\n",
      "+--------------------+--------+------+------+------+-------+-------+-------+----------+\n",
      "only showing top 20 rows\n",
      "\n",
      "root\n",
      " |-- msno: string (nullable = true)\n",
      " |-- date: long (nullable = true)\n",
      " |-- num_25: long (nullable = true)\n",
      " |-- num_50: long (nullable = true)\n",
      " |-- num_75: long (nullable = true)\n",
      " |-- num_985: long (nullable = true)\n",
      " |-- num_100: long (nullable = true)\n",
      " |-- num_unq: long (nullable = true)\n",
      " |-- total_secs: double (nullable = true)\n",
      "\n"
     ]
    }
   ],
   "source": [
    "# Validate Data\n",
    "user_logs = spark.sql(\n",
    "    'SELECT * FROM user_logs_v2 ORDER BY msno')\n",
    "user_logs.show()\n",
    "user_logs.printSchema()"
   ]
  },
  {
   "cell_type": "code",
   "execution_count": null,
   "metadata": {
    "id": "7D_ahVZtvZml"
   },
   "outputs": [],
   "source": [
    "# Load members data from BigQuery.\n",
    "members_v3 = spark.read.format('bigquery') \\\n",
    "  .option('table', 'massive-mantra-310705:kkbox.members_v3') \\\n",
    "  .load()\n",
    "members_v3.createOrReplaceTempView('members_v3')"
   ]
  },
  {
   "cell_type": "code",
   "execution_count": null,
   "metadata": {
    "id": "lKqj7J4XvZml",
    "outputId": "e40bfc54-80a6-4c6b-c117-3c5a940f8cd6"
   },
   "outputs": [
    {
     "name": "stdout",
     "output_type": "stream",
     "text": [
      "+--------------------+----+---+------+--------------+----------------------+\n",
      "|                msno|city| bd|gender|registered_via|registration_init_time|\n",
      "+--------------------+----+---+------+--------------+----------------------+\n",
      "|+++4vcS9aMH7KWdfh...|  12| 27|female|             9|              20090619|\n",
      "|+++5EL4GxAvkaQctw...|   6| 33|  male|             3|              20140416|\n",
      "|+++A5IxXtG7Qtf8jD...|   1| 17|  male|             3|              20140921|\n",
      "|+++EI4HgyhgcJHIPX...|   1|  0|  null|             4|              20160420|\n",
      "|+++FOrTS7ab3tIgIh...|  15| 28|female|             9|              20040327|\n",
      "|+++IZseRRiQS9aaSk...|   6| 22|female|             3|              20121224|\n",
      "|+++PjrpErQjtjL3by...|   1|  0|  null|             3|              20140514|\n",
      "|+++TipL0Kt3JvgNE9...|   1|  0|  null|             4|              20151230|\n",
      "|+++ceu6HDcfpatMwL...|  12| 19|  male|             4|              20160426|\n",
      "|+++dz9ZCWE2HB/47p...|   1|  0|  null|             4|              20160228|\n",
      "|+++eEa/F/qa2mtOPG...|   1|  0|  null|             4|              20161010|\n",
      "|+++hVY1rZox/33Ytv...|   1|  0|  null|             7|              20140608|\n",
      "|+++l/EXNMLTijfLBa...|  15| 26|  male|             9|              20101118|\n",
      "|+++rMjxjARDHEx9zE...|   6| 22|female|             3|              20120802|\n",
      "|+++snpr7pmobhLKUg...|   1|  0|  null|             7|              20140927|\n",
      "|+++tnuKxIMqc8AGBa...|   1|  0|  male|             3|              20150105|\n",
      "|+++uL+jJqrNfhjN9i...|   8| 58|  male|             3|              20150903|\n",
      "|+++yyOJRgojDBRDd8...|   9| 31|female|             9|              20080827|\n",
      "|++//p4u8bCX0VuvkU...|   1|  0|  null|             4|              20150923|\n",
      "|++/0cu51D+hGQTXJD...|   1|  0|  null|             4|              20160113|\n",
      "+--------------------+----+---+------+--------------+----------------------+\n",
      "only showing top 20 rows\n",
      "\n",
      "root\n",
      " |-- msno: string (nullable = true)\n",
      " |-- city: long (nullable = true)\n",
      " |-- bd: long (nullable = true)\n",
      " |-- gender: string (nullable = true)\n",
      " |-- registered_via: long (nullable = true)\n",
      " |-- registration_init_time: long (nullable = true)\n",
      "\n"
     ]
    }
   ],
   "source": [
    "# Validate Data\n",
    "members = spark.sql(\n",
    "    'SELECT * FROM members_v3 ORDER BY msno')\n",
    "members.show()\n",
    "members.printSchema()"
   ]
  },
  {
   "cell_type": "markdown",
   "metadata": {
    "id": "8e4piEo1vZml"
   },
   "source": [
    "# 2. EDA and Pre-processing"
   ]
  },
  {
   "cell_type": "code",
   "execution_count": null,
   "metadata": {
    "id": "Ydxlz24GvZml"
   },
   "outputs": [],
   "source": [
    "import pandas as pd\n",
    "import numpy as np\n",
    "import statistics as stats\n",
    "import matplotlib.pyplot as plt\n",
    "import matplotlib.ticker as mtick\n",
    "import seaborn as sns\n",
    "from pyspark.sql import Window\n",
    "from pyspark.sql.types import StringType\n",
    "from pyspark.sql.functions import isnan, when, count, col\n",
    "from pyspark.sql.functions import udf\n",
    "import pyspark.sql.functions as F\n",
    "from math import log\n",
    "from pyspark.sql.types import DoubleType"
   ]
  },
  {
   "cell_type": "markdown",
   "metadata": {
    "id": "L0CrJqBQvZmm"
   },
   "source": [
    "**Explore dataset \"train\"** "
   ]
  },
  {
   "cell_type": "code",
   "execution_count": null,
   "metadata": {
    "id": "wfjICRDQvZmm",
    "outputId": "805dfe6c-5bc8-4fa6-f482-51c6200c5753"
   },
   "outputs": [
    {
     "data": {
      "text/plain": [
       "970960"
      ]
     },
     "execution_count": 13,
     "metadata": {
      "tags": []
     },
     "output_type": "execute_result"
    }
   ],
   "source": [
    "# Number of entries\n",
    "train.count()"
   ]
  },
  {
   "cell_type": "code",
   "execution_count": null,
   "metadata": {
    "id": "aT4oxcINvZmm",
    "outputId": "f1598c95-ba80-4602-f38f-925ce2361774"
   },
   "outputs": [
    {
     "name": "stdout",
     "output_type": "stream",
     "text": [
      "Dataset train overview\n"
     ]
    },
    {
     "data": {
      "text/html": [
       "<div>\n",
       "<style scoped>\n",
       "    .dataframe tbody tr th:only-of-type {\n",
       "        vertical-align: middle;\n",
       "    }\n",
       "\n",
       "    .dataframe tbody tr th {\n",
       "        vertical-align: top;\n",
       "    }\n",
       "\n",
       "    .dataframe thead th {\n",
       "        text-align: right;\n",
       "    }\n",
       "</style>\n",
       "<table border=\"1\" class=\"dataframe\">\n",
       "  <thead>\n",
       "    <tr style=\"text-align: right;\">\n",
       "      <th></th>\n",
       "      <th>column name</th>\n",
       "      <th>data type</th>\n",
       "    </tr>\n",
       "  </thead>\n",
       "  <tbody>\n",
       "    <tr>\n",
       "      <th>0</th>\n",
       "      <td>msno</td>\n",
       "      <td>string</td>\n",
       "    </tr>\n",
       "    <tr>\n",
       "      <th>1</th>\n",
       "      <td>is_churn</td>\n",
       "      <td>bigint</td>\n",
       "    </tr>\n",
       "  </tbody>\n",
       "</table>\n",
       "</div>"
      ],
      "text/plain": [
       "  column name data type\n",
       "0        msno    string\n",
       "1    is_churn    bigint"
      ]
     },
     "execution_count": 14,
     "metadata": {
      "tags": []
     },
     "output_type": "execute_result"
    }
   ],
   "source": [
    "# columns overview\n",
    "print(\"Dataset train overview\")\n",
    "pd.DataFrame(train.dtypes, columns = ['column name','data type'])"
   ]
  },
  {
   "cell_type": "code",
   "execution_count": null,
   "metadata": {
    "id": "pzmMd1nxvZmm",
    "outputId": "08c1d99d-9ed8-4eaf-ef2c-df050f6004fc"
   },
   "outputs": [
    {
     "data": {
      "text/plain": [
       "<AxesSubplot:xlabel='is_churn', ylabel='count'>"
      ]
     },
     "execution_count": 15,
     "metadata": {
      "tags": []
     },
     "output_type": "execute_result"
    },
    {
     "data": {
      "image/png": "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\n",
      "text/plain": [
       "<Figure size 432x288 with 1 Axes>"
      ]
     },
     "metadata": {
      "needs_background": "light",
      "tags": []
     },
     "output_type": "display_data"
    }
   ],
   "source": [
    "sns.countplot(x=\"is_churn\", data=train.toPandas())"
   ]
  },
  {
   "cell_type": "markdown",
   "metadata": {
    "id": "lJ5vTG2evZmn"
   },
   "source": [
    "The dataset is a imbalanced. When we train our neural network, we will take this into consideration. "
   ]
  },
  {
   "cell_type": "code",
   "execution_count": null,
   "metadata": {
    "id": "oKCMIGf5vZmn",
    "outputId": "2be6fed2-a1c2-491b-f7d7-1871f964bf09"
   },
   "outputs": [
    {
     "data": {
      "text/plain": [
       "0"
      ]
     },
     "execution_count": 16,
     "metadata": {
      "tags": []
     },
     "output_type": "execute_result"
    }
   ],
   "source": [
    "# check null value\n",
    "train.filter(train.is_churn.isNull()).count()"
   ]
  },
  {
   "cell_type": "markdown",
   "metadata": {
    "id": "la0ywBTOvZmn"
   },
   "source": [
    "**Explore dataset transactions and perform pre-processing**"
   ]
  },
  {
   "cell_type": "code",
   "execution_count": null,
   "metadata": {
    "id": "zpEttDeGvZmn",
    "outputId": "b9c7c5c0-2cad-4489-fc75-0f6f97937fca"
   },
   "outputs": [
    {
     "data": {
      "text/plain": [
       "1431009"
      ]
     },
     "execution_count": 17,
     "metadata": {
      "tags": []
     },
     "output_type": "execute_result"
    }
   ],
   "source": [
    "# Number of entires\n",
    "transactions.count()"
   ]
  },
  {
   "cell_type": "code",
   "execution_count": null,
   "metadata": {
    "id": "Ayt-J8gcvZmn",
    "outputId": "6c7eae6a-b4de-4ecd-a648-321acd4212e8"
   },
   "outputs": [
    {
     "name": "stdout",
     "output_type": "stream",
     "text": [
      "Dataset transactions overview\n"
     ]
    },
    {
     "data": {
      "text/html": [
       "<div>\n",
       "<style scoped>\n",
       "    .dataframe tbody tr th:only-of-type {\n",
       "        vertical-align: middle;\n",
       "    }\n",
       "\n",
       "    .dataframe tbody tr th {\n",
       "        vertical-align: top;\n",
       "    }\n",
       "\n",
       "    .dataframe thead th {\n",
       "        text-align: right;\n",
       "    }\n",
       "</style>\n",
       "<table border=\"1\" class=\"dataframe\">\n",
       "  <thead>\n",
       "    <tr style=\"text-align: right;\">\n",
       "      <th></th>\n",
       "      <th>column name</th>\n",
       "      <th>data type</th>\n",
       "    </tr>\n",
       "  </thead>\n",
       "  <tbody>\n",
       "    <tr>\n",
       "      <th>0</th>\n",
       "      <td>msno</td>\n",
       "      <td>string</td>\n",
       "    </tr>\n",
       "    <tr>\n",
       "      <th>1</th>\n",
       "      <td>payment_method_id</td>\n",
       "      <td>bigint</td>\n",
       "    </tr>\n",
       "    <tr>\n",
       "      <th>2</th>\n",
       "      <td>payment_plan_days</td>\n",
       "      <td>bigint</td>\n",
       "    </tr>\n",
       "    <tr>\n",
       "      <th>3</th>\n",
       "      <td>plan_list_price</td>\n",
       "      <td>bigint</td>\n",
       "    </tr>\n",
       "    <tr>\n",
       "      <th>4</th>\n",
       "      <td>actual_amount_paid</td>\n",
       "      <td>bigint</td>\n",
       "    </tr>\n",
       "    <tr>\n",
       "      <th>5</th>\n",
       "      <td>is_auto_renew</td>\n",
       "      <td>bigint</td>\n",
       "    </tr>\n",
       "    <tr>\n",
       "      <th>6</th>\n",
       "      <td>transaction_date</td>\n",
       "      <td>bigint</td>\n",
       "    </tr>\n",
       "    <tr>\n",
       "      <th>7</th>\n",
       "      <td>membership_expire_date</td>\n",
       "      <td>bigint</td>\n",
       "    </tr>\n",
       "    <tr>\n",
       "      <th>8</th>\n",
       "      <td>is_cancel</td>\n",
       "      <td>bigint</td>\n",
       "    </tr>\n",
       "  </tbody>\n",
       "</table>\n",
       "</div>"
      ],
      "text/plain": [
       "              column name data type\n",
       "0                    msno    string\n",
       "1       payment_method_id    bigint\n",
       "2       payment_plan_days    bigint\n",
       "3         plan_list_price    bigint\n",
       "4      actual_amount_paid    bigint\n",
       "5           is_auto_renew    bigint\n",
       "6        transaction_date    bigint\n",
       "7  membership_expire_date    bigint\n",
       "8               is_cancel    bigint"
      ]
     },
     "execution_count": 18,
     "metadata": {
      "tags": []
     },
     "output_type": "execute_result"
    }
   ],
   "source": [
    "# columns overview\n",
    "print(\"Dataset transactions overview\")\n",
    "pd.DataFrame(transactions.dtypes, columns = ['column name','data type'])"
   ]
  },
  {
   "cell_type": "code",
   "execution_count": null,
   "metadata": {
    "id": "rfUf1aysvZmo"
   },
   "outputs": [],
   "source": [
    "# Convert categorical features stored as int to string \n",
    "transactions = transactions.withColumn(\"payment_method_id\", transactions[\"payment_method_id\"].cast(StringType()))\n",
    "transactions = transactions.withColumn(\"transaction_date\", transactions[\"transaction_date\"].cast(StringType()))\n",
    "transactions = transactions.withColumn(\"membership_expire_date\", transactions[\"membership_expire_date\"].cast(StringType()))"
   ]
  },
  {
   "cell_type": "code",
   "execution_count": null,
   "metadata": {
    "id": "lo0iJ-HevZmo",
    "outputId": "5d1ecb46-cfb1-418f-9f32-77a4b1292cd4"
   },
   "outputs": [
    {
     "data": {
      "text/plain": [
       "<AxesSubplot:xlabel='payment_method_id', ylabel='count'>"
      ]
     },
     "execution_count": 20,
     "metadata": {
      "tags": []
     },
     "output_type": "execute_result"
    },
    {
     "data": {
      "image/png": "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\n",
      "text/plain": [
       "<Figure size 1152x648 with 1 Axes>"
      ]
     },
     "metadata": {
      "needs_background": "light",
      "tags": []
     },
     "output_type": "display_data"
    }
   ],
   "source": [
    "# check the distribution of payment method \n",
    "fig, ax = plt.subplots(figsize=(16,9))\n",
    "sns.countplot(ax=ax, x=\"payment_method_id\", data=transactions.toPandas())"
   ]
  },
  {
   "cell_type": "code",
   "execution_count": null,
   "metadata": {
    "id": "-Ax9FEeJvZmo",
    "outputId": "1311f2e1-e4c8-4d9b-868c-c287c12f86cc"
   },
   "outputs": [
    {
     "data": {
      "text/plain": [
       "<AxesSubplot:xlabel='is_cancel', ylabel='count'>"
      ]
     },
     "execution_count": 21,
     "metadata": {
      "tags": []
     },
     "output_type": "execute_result"
    },
    {
     "data": {
      "image/png": "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\n",
      "text/plain": [
       "<Figure size 432x288 with 1 Axes>"
      ]
     },
     "metadata": {
      "needs_background": "light",
      "tags": []
     },
     "output_type": "display_data"
    }
   ],
   "source": [
    "# check distribution of is_cancel\n",
    "# The is_cancel column indicates whether or not the user canceled the membership in this transaction\n",
    "sns.countplot(x=\"is_cancel\", data=transactions.toPandas())"
   ]
  },
  {
   "cell_type": "code",
   "execution_count": null,
   "metadata": {
    "id": "bt5VXrUUvZmo"
   },
   "outputs": [],
   "source": [
    "# Due to the abnormally imbalanced distribution, we drop this column\n",
    "transactions = transactions.drop(\"is_cancel\")"
   ]
  },
  {
   "cell_type": "code",
   "execution_count": null,
   "metadata": {
    "id": "QQKhYuzevZmo",
    "outputId": "2ec0e89e-650b-4b63-aa9b-355382c55711"
   },
   "outputs": [
    {
     "data": {
      "text/plain": [
       "<AxesSubplot:xlabel='is_auto_renew', ylabel='count'>"
      ]
     },
     "execution_count": 23,
     "metadata": {
      "tags": []
     },
     "output_type": "execute_result"
    },
    {
     "data": {
      "image/png": "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\n",
      "text/plain": [
       "<Figure size 432x288 with 1 Axes>"
      ]
     },
     "metadata": {
      "needs_background": "light",
      "tags": []
     },
     "output_type": "display_data"
    }
   ],
   "source": [
    "# check distribution of auto_renew\n",
    "sns.countplot(x=\"is_auto_renew\", data=transactions.toPandas())"
   ]
  },
  {
   "cell_type": "code",
   "execution_count": null,
   "metadata": {
    "id": "1aU7h5nxvZmo",
    "outputId": "df3eac08-8267-41b7-84c7-e61000c6393e"
   },
   "outputs": [
    {
     "data": {
      "text/plain": [
       "array([[<AxesSubplot:title={'center':'payment_plan_days'}>,\n",
       "        <AxesSubplot:title={'center':'plan_list_price'}>],\n",
       "       [<AxesSubplot:title={'center':'actual_amount_paid'}>,\n",
       "        <AxesSubplot:>]], dtype=object)"
      ]
     },
     "execution_count": 24,
     "metadata": {
      "tags": []
     },
     "output_type": "execute_result"
    },
    {
     "data": {
      "image/png": "iVBORw0KGgoAAAANSUhEUgAAAlUAAAHiCAYAAADBITniAAAAOXRFWHRTb2Z0d2FyZQBNYXRwbG90bGliIHZlcnNpb24zLjMuNCwgaHR0cHM6Ly9tYXRwbG90bGliLm9yZy8QVMy6AAAACXBIWXMAAAsTAAALEwEAmpwYAAAziElEQVR4nO3de5xkdX3n/9c7AyYIKFFiB7k4xKAGRY2O6EaNTYw66CbE/eUCEg2sZkIiuexiEkyyXtbdjZqQNSI6GQlBFBk1oiCOEn8mHTRKRBJkGAg6wigj6ggYcPBCRj/7R53Rou2ePj397emqntfz8ajH1DnnW+d8P1U1336fS1WlqpAkSdLC/MBSd0CSJGk5MFRJkiQ1YKiSJElqwFAlSZLUgKFKkiSpAUOVJElSA4YqLYkkr0jytj28zakkL9qT25S0OJJMJtm6yNv47piR5OQkf7eY2+vRn6cmuXEp+6BdM1RpXpJsSfKzS90PSdqTqurCqnrmXO2SnJ/kfy1SHz5SVQ9fjHWrDUOVJEkjLsk+S90Hzc1QtYd1R3pemuT6JF9N8jdJfijJDye5LMlXuvmXJTmse8wvJbl62nrOSPLe7v75Sd6Y5ANJtif5pyQ/muR13br+LclPDj32wUne3W3r5iS/M7TsFUnemeSCJF9LsinJqm7ZW4EjgPd12/mDXdS5MkklWZPk1iRfTHLGLtq/K8mXktyZ5Iokjxxadn6Sc5K8v+vTPyd5aI/n+hld7XcmeQOQoWUPTfL3SW5PcluSC5Mc1C37/STvnraus5O8rrt/SpKbur7cnOTkufoiaffMNmbO0O7MJJ/t/l9en+S5Q8tOSfLRJH/erePmJMfPsx+nJPlodz9J/m+Sbd34cm2SRyVZA5wM/EE3Rr5vd2tLd3ozyR8m+RLwN5l2yjPJ4Uku7sby27txbuey/5rkhm69lyd5yHzq1e4xVC2Nk4FnAQ8FHgb8CYPX4m+AhzAILt8Adv4HuRQ4MslPDK3jV4G3Dk3/creeg4FvAR8H/qWb/lvgLwCS/ADwPuBTwKHA04HfS/KsoXX9PLAeOKjb9hsAqur5wOeBn6uqA6rqtT1qPQ44CngmcGZmP3X4ga7dg7p+Xzht+UnAK4EfBjYD/3tXG01yMPBuvvecfBZ48nAT4E+BBwM/ARwOvKJb9jZg9VDI2gf4FeCtSfYHXg8cX1UHAj8FXLOrvkhasJnGzOk+CzwVuD+DseJtSQ4ZWv5E4EYG48Frgb9Oku9bSz/PBH6668tBDMaH26tqHYOx67XdGPlzPda1q9p+FHgAg78La4YflGQFcBnwOWAlg/F8fbfsF4A/Av4L8CPAR4CL5l2l5m1JQ1WS87qkf13P9r/cJfpNSd6+2P1bRG+oqluq6g4G4eCkqrq9qt5dVV+vqq91858GUFXfAt7BIEjRHcVZyeA/1E7vqaqrq+qbwHuAb1bVBVX17e6xO49UPQH4kar6n1V1T1XdBLwZOHFoXR+tqg3dY98KPGYBtb6yqu6uqo0MQuNJMzWqqvOq6mtdra8AHpPk/kNNLq6qT1TVDgaD1mPn2O6zgeur6m+r6j+A1wFfGtre5qr6UFV9q6q+wiB07ny+vwhcAfxS13w1cFtV7Txa+B3gUUn2q6ovVtWmfk+F9mZ78XjXwveNmdMbVNW7qurWqvpOVb0D+Axw7FCTz1XVm7tx7S3AIcDEbvbnP4ADgUcAqaobunFjd+yqtu8AL+/GqW9Me9yxDHYKf78bY79ZVR/tlv0G8Kddv3YA/wd4rEerFt9SH6k6n8EfrDklOQp4KfDkqnok8HuL161Fd8vQ/c8BD05y3yR/leRzSe5i8Ef9oG5vBAaDwPO6PavnA+/sAshOXx66/40Zpg/o7j+k296/77wx2KMZHly+NHT/68APZffP539frdMbJFmR5NXdofu7gC3dooN30acD2LUHD2+7Br8c/t3pJA9Ksj7JF7ptvm3a9t5CF2IZOipYVXcz2Cs9DfhiBqckHzFHXyTYe8e7FvqMIy9Ics3QuPYoZhlDqurr3d25xpEZVdXfMziCfw7w5STrktxvd9bFrmv7SrejPJPDGQTFHTMsewjwl0PPxR0Mjs4fupt9VE9LGqqq6goGL/Z3ZXCtyweTXJ3kI0N/sH4dOKeqvto9dtse7m5Lhw/dPwK4FTgDeDjwxKq6H4NDy9BdB1RVVwL3MDi8/TzufepvPm4Bbq6qg4ZuB1bVs3s+vua5vZlqne55wAnAzzI4dL+ym7+7h+YBvji87S6MDvflTxnU8uju+f7Vadt7L/DoJI8C/jNDpyOr6vKqegaDPd1/Y3CkT9qlvXi8a2GX40h3BObNwOnAA6vqIOA6FjaG7FJVvb6qHg88ksFpu9/fuWieq9pVbbta1y3AEbPs8N4C/Ma0cX6/qvrYPPumeVrqI1UzWQf8dvdmfQnwxm7+w4CHZXAR9pVJeu3xjagXJzksyQMYHCV6B4NDyd8A/r2b//IZHncBg72jHUOHeefrE8Bd3cWP+3VHiR6V5Ak9H/9l4Mfmsb3/0R2FeyRwKoNapzuQwXVgtwP3ZXCoeqHeDzwyyX/pBp3fYXB9wvA2tzN4vg/lewMiAN3e4d8Cbwc+UVWfB0gykeTnu2urvtWt49sN+qu9094w3rUw05g5bH8GAeQrAElOZXCkalEkeUKSJybZF7gb+CbfGwfmO0bOVdtsPsFg5/HVSfbP4ANPO68bXQu8tBt3SXL/JL8024rUzkiFqiQHMLjw911JrgH+isHRAIB9GFzIPMngnPO5Oy8kHkNvB/4OuKm7/S8G1/zsB9wGXAl8cIbHvZXBQLG7R6norif4OQbXJN3cbe9cBkeI+vhT4E+6w8ov6dH+HxlcWP5h4M+raqYvz7uAwWHvLwDXM6h/QarqNgbXRL2aQVg7CvinoSavBB4H3MkggF08w2reAhzDvZ/vH2BwVPFWBkcdngb81kL7q73PXjTetTDTmPldVXU9cBaDD+h8mcH/239i8dyPwZGxrzIYu24H/rxb9tfA0d0Y+d4e69plbbMZGst/nMEHiLYyuDSBqnoP8BpgfXd5w3XAvD7tqN2TwaUmS9iBZCVwWVU9qjsnfWNVHTJDu7XAlVV1fjf9YeDMqrpqT/Z3oZJsAV5UVf//bjx2P2Ab8Liq+kzrvrXUva43A/vOcs5/5CU5gsHpvR+tqruWuj8af3vbeNfCQsbMUbeca9tbjdSRqu4P1807D1NmYOcnz97L4OP5Oz8u/zAGqX5v8pvAVaMeqJaDDL564r8D6w1UWgyOd9Lys9RfqXARg8O1D8/gS85eyOA7O16Y5FPAJgYXMANcDtye5HrgHxh8jPT2pej3Uuj2aH6XwamnkZDBb2Ftn+G2R75iIIPfwZpp+9sXuN79gbuAZzDztW3SvDnejabZxpAkT22w7iN2sf4jWvRfo2XJT/9JkiQtByN1+k+SJGlcGaokSZIaWLJfvT744INr5cqVvdrefffd7L///ovboUVmDaPBGtq7+uqrb6uqH1nqfoyyvW28m421jSdrG+gz1i1ZqFq5ciWf/OQne7WdmppicnJycTu0yKxhNFhDe0k+t9R9GHV723g3G2sbT9Y20Ges8/SfJElSA4YqSZKkBgxVkiRJDRiqJEmSGjBUSZIkNWCokiRJasBQJUmS1MCSfU/VfGz8wp2ccub7m693y6uf03ydkrQQjnfS+JrzSFWS85JsS3LdLMtPTnJtd/tYkse076YkSdJo63P673xg9S6W3ww8raoeDbwKWNegX5K0x7kTKWkh5gxVVXUFcMculn+sqr7aTV4JHNaob5K0p52PO5GSdlPra6peCHyg8TolaY+oqiuSrNzF8o8NTboTKeleUlVzNxoMMpdV1aN20eY44I3AU6rq9lnarAHWAExMTDx+/fr1vTq57Y47+fI3ejWdl2MOvX/7lc5i+/btHHDAAXtse4vBGkbDqNVw3HHHXV1Vq5a6H630Ge+6di8BHlFVL5pl+V473s1m1N67LVnbeJpPbX3GuiZHqpI8GjgXOH62QAVQVevoDpevWrWq+v4y9NkXXsJZG9t/UHHLyf2238Jy+JVvaxgNy6GGcdftRL4QeMpsbfbm8W42y/m9a23jqXVtC/6fm+QI4GLg+VX16YV3SZJGV9+dSEl7nzlDVZKLgEng4CRbgZcD+wJU1VrgZcADgTcmAdixnE4FSNJO7kRK2pU5Q1VVnTTH8hcBM15TIEnjxJ1ISQsxFt+oLkl7gjuRkhbC3/6TJElqwFAlSZLUgKFKkiSpAUOVJElSA4YqSZKkBgxVkiRJDRiqJEmSGjBUSZIkNWCokiRJasBQJUmS1IChSpIkqQFDlSRJUgOGKkmSpAYMVZIkSQ0YqiRJkhowVEmSJDVgqJIkSWrAUCVJktSAoUqSJKmBOUNVkvOSbEty3SzLk+T1STYnuTbJ49p3U5IkabT1OVJ1PrB6F8uPB47qbmuANy28W5K057kTKWkh5gxVVXUFcMcumpwAXFADVwIHJTmkVQclaQ86H3ciJe2mFtdUHQrcMjS9tZsnSWPFnUhJC7FPg3Vkhnk1Y8NkDYO9OyYmJpiamuq1gYn94Ixjduxu/2bVd/stbN++fY9ubzFYw2hYDjWMsdl2Ir84veHePN7NZjm/d61tPLWurUWo2gocPjR9GHDrTA2rah2wDmDVqlU1OTnZawNnX3gJZ21s0dV723Jyv+23MDU1Rd96R5U1jIblUMMY670TuTePd7NZzu9daxtPrWtrcfrvUuAF3QWcTwLurKrv22uTpGWg906kpL3PnLtDSS4CJoGDk2wFXg7sC1BVa4ENwLOBzcDXgVMXq7OStMQuBU5Psh54Iu5EShoyZ6iqqpPmWF7Ai5v1SJKWiDuRkhai/Yl7SRpT7kRKWgh/pkaSJKkBQ5UkSVIDhipJkqQGDFWSJEkNGKokSZIaMFRJkiQ1YKiSJElqwFAlSZLUgKFKkiSpAUOVJElSA4YqSZKkBgxVkiRJDRiqJEmSGjBUSZIkNWCokiRJasBQJUmS1IChSpIkqQFDlSRJUgOGKkmSpAZ6haokq5PcmGRzkjNnWH7/JO9L8qkkm5Kc2r6rkiRJo2vOUJVkBXAOcDxwNHBSkqOnNXsxcH1VPQaYBM5Kcp/GfZWkReUOpKSF6HOk6lhgc1XdVFX3AOuBE6a1KeDAJAEOAO4AdjTtqSQtIncgJS1Un1B1KHDL0PTWbt6wNwA/AdwKbAR+t6q+06SHkrRnuAMpaUH26dEmM8yradPPAq4BfgZ4KPChJB+pqrvutaJkDbAGYGJigqmpqV6dnNgPzjim/bjVd/stbN++fY9ubzFYw2hYDjWMqJl2IJ84rc0bgEsZ7EAeCPzKbDuQe/N4N5vl/N61tvHUurY+oWorcPjQ9GEMBpRhpwKvrqoCNie5GXgE8InhRlW1DlgHsGrVqpqcnOzVybMvvISzNvbp6vxsObnf9luYmpqib72jyhpGw3KoYUQ124GEvXu8m81yfu9a23hqXVuf039XAUclObK7duBEBntqwz4PPB0gyQTwcOCmZr2UpMXXdwfy4hrYDOzcgZSkuUNVVe0ATgcuB24A3llVm5KcluS0rtmrgJ9KshH4MPCHVXXbYnVakhaBO5CSFqTXMeaq2gBsmDZv7dD9W4Fntu2aJO05VbUjyc4dyBXAeTt3ILvlaxnsQJ7f7UAGdyAlDWl/4l6SxpQ7kJIWwp+pkSRJasBQJUmS1IChSpIkqQFDlSRJUgOGKkmSpAYMVZIkSQ0YqiRJkhowVEmSJDVgqJIkSWrAUCVJktSAoUqSJKkBQ5UkSVIDhipJkqQGDFWSJEkNGKokSZIaMFRJkiQ1YKiSJElqwFAlSZLUgKFKkiSpAUOVJElSA71CVZLVSW5MsjnJmbO0mUxyTZJNSf6xbTclafE51klaiH3mapBkBXAO8AxgK3BVkkur6vqhNgcBbwRWV9XnkzxokforSYvCsU7SQvU5UnUssLmqbqqqe4D1wAnT2jwPuLiqPg9QVdvadlOSFp1jnaQFmfNIFXAocMvQ9FbgidPaPAzYN8kUcCDwl1V1wfQVJVkDrAGYmJhgamqqVycn9oMzjtnRq+189N1+C9u3b9+j21sM1jAalkMNI6rZWCdp79QnVGWGeTXDeh4PPB3YD/h4kiur6tP3elDVOmAdwKpVq2pycrJXJ8++8BLO2tinq/Oz5eR+229hamqKvvWOKmsYDcuhhhHVbKyDvXsncjbLeYfA2sZT69r6JJWtwOFD04cBt87Q5raquhu4O8kVwGOA7xtoJGlENR3r9uadyNks5x0CaxtPrWvrc03VVcBRSY5Mch/gRODSaW0uAZ6aZJ8k92VwyPyGZr2UpMXnWCdpQebcHaqqHUlOBy4HVgDnVdWmJKd1y9dW1Q1JPghcC3wHOLeqrlvMjktSS451khaq1zHmqtoAbJg2b+206T8D/qxd1yRpz3Ksk7QQfqO6JElSA4YqSZKkBgxVkiRJDRiqJEmSGjBUSZIkNWCokiRJasBQJUmS1IChSpIkqQFDlSRJUgOGKkmSpAYMVZIkSQ0YqiRJkhowVEmSJDVgqJIkSWrAUCVJktSAoUqSJKkBQ5UkSVIDhipJkqQGDFWSJEkNGKokSZIa6BWqkqxOcmOSzUnO3EW7JyT5dpJfbNdFSdozHOskLcScoSrJCuAc4HjgaOCkJEfP0u41wOWtOylJi82xTtJC9TlSdSywuapuqqp7gPXACTO0+23g3cC2hv2TpD3FsU7SgvQJVYcCtwxNb+3mfVeSQ4HnAmvbdU2S9ijHOkkLsk+PNplhXk2bfh3wh1X17WSm5t2KkjXAGoCJiQmmpqZ6dXJiPzjjmB292s5H3+23sH379j26vcVgDaNhOdQwopqNdbB3j3ezWc7vXWsbT61r6xOqtgKHD00fBtw6rc0qYH03yBwMPDvJjqp673CjqloHrANYtWpVTU5O9urk2Rdewlkb+3R1frac3G/7LUxNTdG33lFlDaNhOdQwopqNdbB3j3ezWc7vXWsbT61r6/M/9yrgqCRHAl8ATgSeN9ygqo7ceT/J+cBlMw0ykjTCHOskLcicoaqqdiQ5ncEnXVYA51XVpiSndcu9tkDS2HOsk7RQvY4xV9UGYMO0eTMOMFV1ysK7JUl7nmOdpIXwG9UlSZIaMFRJkiQ1YKiSJElqwFAlSZLUgKFKkiSpAUOVJElSA4YqSZKkBgxVkiRJDRiqJEmSGjBUSZIkNWCokiRJasBQJUmS1IChSpIkqQFDlSRJUgOGKkmSpAYMVZIkSQ0YqiRJkhowVEmSJDVgqJIkSWrAUCVJktRAr1CVZHWSG5NsTnLmDMtPTnJtd/tYkse076okLS7HOkkLMWeoSrICOAc4HjgaOCnJ0dOa3Qw8raoeDbwKWNe6o5K0mBzrJC1UnyNVxwKbq+qmqroHWA+cMNygqj5WVV/tJq8EDmvbTUladI51khakT6g6FLhlaHprN282LwQ+sJBOSdIScKyTtCD79GiTGebVjA2T4xgMNE+ZZfkaYA3AxMQEU1NTvTo5sR+cccyOXm3no+/2W9i+ffse3d5isIbRsBxqGFHNxrquzV473s1mOb93rW08ta6tT6jaChw+NH0YcOv0RkkeDZwLHF9Vt8+0oqpaR3cNwqpVq2pycrJXJ8++8BLO2tinq/Oz5eR+229hamqKvvWOKmsYDcuhhhHVbKyDvXu8m81yfu9a23hqXVuf039XAUclOTLJfYATgUuHGyQ5ArgYeH5VfbpZ7yRpz3Gsk7Qgc+4OVdWOJKcDlwMrgPOqalOS07rla4GXAQ8E3pgEYEdVrVq8bktSW451khaq1zHmqtoAbJg2b+3Q/RcBL2rbNUnasxzrJC2E36guSZLUgKFKkiSpAUOVJElSA4YqSZKkBgxVkiRJDRiqJEmSGjBUSZIkNWCokiRJasBQJUmS1IChSpIkqQFDlSRJUgO9fvtP0mhaeeb7F2W9W179nEVZryQtZ4YqSZLUxN6+o+fpP0mSpAYMVZIkSQ0YqiRJkhrwmir1Pgd+xjE7OGWe58vH5Ty4JEkL5ZEqSZKkBgxVkiRJDXj6T5K02+bzEfr5XEKwWJcOLNZH/s9fvf+irFfjpVeoSrIa+EtgBXBuVb162vJ0y58NfB04par+pXFfx8ZM/2l353qk6bw+SVpcjnWSFmLOUJVkBXAO8AxgK3BVkkur6vqhZscDR3W3JwJv6v6VRNu94xYBXd/PsU7SQvU5UnUssLmqbgJIsh44ARgeaE4ALqiqAq5MclCSQ6rqi817LEmLY1mPdYt12kuLaxReN3fk+usTqg4Fbhma3sr375nN1OZQYOQHGi2uvf0nCzRWHOtGyCiECWm++oSqzDCvdqMNSdYAa7rJ7Ulu7LF9gIOB23q27S2vab3G2f1Ogxr2ZH9n0qKGVhbwXIxMDbtrT7wO83x+H7JI3djTmo11MHrj3SgYpTGkteNes3xrG4XXbRH//s2ntjnHuj6haitw+ND0YcCtu9GGqloHrOuxzXtJ8smqWjXfx40SaxgN1qBdaDbWwd493s3G2saTtfXX53uqrgKOSnJkkvsAJwKXTmtzKfCCDDwJuHMcrjGQpCGOdZIWZM4jVVW1I8npwOUMPmZ8XlVtSnJat3wtsIHBR4w3M/iY8amL12VJas+xTtJC9fqeqqrawGAwGZ63duh+AS9u27V7mfch9BFkDaPBGjSrERjrYHm/vtY2nqytpwzGCEmSJC2Ev/0nSZLUwMiHqiSrk9yYZHOSM5e6P7NJcl6SbUmuG5r3gCQfSvKZ7t8fHlr20q6mG5M8a2l6/T1JDk/yD0luSLIpye9288ephh9K8okkn+pqeGU3f2xq2CnJiiT/muSybnrsatD8jMtYtytJtiTZmOSaJJ/s5o3le7fVmJ7k8d1zsjnJ65PM9LUce9Qstb0iyRe61+6aJM8eWjZOtTX7W7Zb9VXVyN4YXCz6WeDHgPsAnwKOXup+zdLXnwYeB1w3NO+1wJnd/TOB13T3j+5q+UHgyK7GFUvc/0OAx3X3DwQ+3fVznGoIcEB3f1/gn4EnjVMNQ7X8d+DtwGXj9l7ytluv99iMdXPUsQU4eNq8sXzvthrTgU8A/6kbnz4AHD+itb0CeMkMbcettmZ/y3anvlE/UvXdn42oqnuAnT8bMXKq6grgjmmzTwDe0t1/C/ALQ/PXV9W3qupmBp8kOnZP9HM2VfXF6n4Ytqq+BtzA4Juix6mGqqrt3eS+3a0YoxoAkhwGPAc4d2j2WNWgeRubsW43jOV7t8WYnuQQ4H5V9fEa/JW+YOgxS2aW2mYzbrU1+Vu2u/WNeqia7SchxsVEdd9h0/37oG7+SNeVZCXwkwyO9IxVDd1ps2uAbcCHqmrsagBeB/wB8J2heeNWg+ZnubyOBfxdkqsz+EZ5WF7v3fnWcmh3f/r8UXV6kmu704M7T4+NbW0L/Fu2W/WNeqjq/ZMQY2Zk60pyAPBu4Peq6q5dNZ1h3pLXUFXfrqrHMvim62OTPGoXzUeuhiT/GdhWVVf3fcgM85b8ddC8LZfX8clV9TjgeODFSX56F22XS80wey3jVOObgIcCj2XwW5ZndfPHsrYGf8t2q75RD1W9fxJiRH25O4RI9++2bv5I1pVkXwZvwgur6uJu9ljVsFNV/TswBaxmvGp4MvDzSbYwOAX0M0nexnjVoPlbFq9jVd3a/bsNeA+D03nL6b0731q2dvenzx85VfXlbqf0O8Cb+d6p2LGrrdHfst2qb9RDVZ+fjRhllwK/1t3/NeCSofknJvnBJEcCRzG4IG7JdJ9q+Gvghqr6i6FF41TDjyQ5qLu/H/CzwL8xRjVU1Uur6rCqWsng/f73VfWrjFEN2i3jPtaRZP8kB+68DzwTuI7l9d6dVy3daaavJXlSN8a+YOgxI2Vn4Og8l8FrB2NWW6u/Zbtd31JfqT/XjcFPQnyawRX5f7zU/dlFPy9icMj0Pxgk3BcCDwQ+DHym+/cBQ+3/uKvpRkbjExNPYXBo81rgmu727DGr4dHAv3Y1XAe8rJs/NjVMq2eS7336byxr8Dav13ssxrpd9P/HGHyK6lPApp01jOt7t9WYDqzqxqPPAm+g+9LtEaztrcDGbvy8FDhkTGtr9rdsd+rzG9UlSZIaGPXTf5IkSWPBUCVJktSAoUqSJKkBQ5UkSVIDhipJkqQGDFWSJEkNGKokSZIaMFRJkiQ1YKiSJElqwFAlSZLUgKFKkiSpAUOVJElSA4YqSZKkBgxVkiRJDRiqJEmSGjBUSZIkNWCokiRJasBQJUmS1IChSpIkqQFDlSRJUgOGKkmSpAYMVZIkSQ0YqiRJkhowVEmSJDVgqJIkSWrAULUXSlJJfnyp+zFOkmxP8mOzLDslyUf3dJ8kSaPFUDUGkmxJ8rNL3Y9RtKeem6o6oKpuWuztSJLGl6FKkiSpAUPVHpbkzCSfTfK1JNcnee7Qsl9PcsPQsscleStwBPC+7hTUHySZTLJ12nq/e8QmybFJPp7k35N8Mckbktxnnv18TpJ/TXJXkluSvGJo2cruFOKp3bKvJjktyROSXNtt9w1D7X8gyZ8k+VySbUkuSHL/btlctbwiyTu7x3wtyaYkq7pl3/fc7KKenX1ek+TW7nk5Y2j5Lp+z4VOmSR6Y5NLuufkE8ND5PLeSpOXJULXnfRZ4KnB/4JXA25IckuSXgFcALwDuB/w8cHtVPR/4PPBz3Smo1/bYxreB/wYcDPwn4OnAb82zn3d3fTkIeA7wm0l+YVqbJwJHAb8CvA74Y+BngUcCv5zkaV27U7rbccCPAQcAb6C/nwfWd325dOdjd/O5Oa7r8zOBM4dOHc7nOTsH+CZwCPBfu5skaS+3pKEqyXndkYvrerb/5e4IzqYkb1/s/i2GqnpXVd1aVd+pqncAnwGOBV4EvLaqrqqBzVX1ud3cxtVVdWVV7aiqLcBfAU+b42HT1zFVVRu7fl4LXDTDOl5VVd+sqr9jEMIuqqptVfUF4CPAT3btTgb+oqpuqqrtwEuBE5Ps07M7H62qDVX1beCtwGPmU8s0r6yqu6tqI/A3wEldvb2esyQrgP8PeFm3nuuAtyygP5KkZWKpj1SdD6zu0zDJUQz+GD+5qh4J/N7idWvxJHlBkmu600z/DjyKwdGRwxkcxWqxjYcluSzJl5LcBfyfbhvzWccTk/xDkq8kuRM4bYZ1fHno/jdmmD6gu/9gYDggfg7YB5jo2Z0vDd3/OvBD8whk090yrR8Phnk9Zz/CoO/T1yNJ2sstaaiqqiuAO4bnJXlokg8muTrJR5I8olv068A5VfXV7rHb9nB3FyzJQ4A3A6cDD6yqg4DrgDD4Iz3btTk1bfpu4L5D613B4I/9Tm8C/g04qqruB/xRt435eDuDU22HV9X9gbW7sY6dbgUeMjR9BLCDQQibq5a5TH9u5nL4tH7c2t3v+5x9hUHfp69HkrSXW+ojVTNZB/x2VT0eeAnwxm7+w4CHJfmnJFcm6XWEa8TszyAEfAUgyakMjlQBnAu8JMnjM/DjXQiDQfgY/o6kTzM4WvOcJPsCfwL84NDyA4G7gO1dKP3N3ejrgcAdVfXNJMcCz9uNdex0EfDfkhyZ5AAGR4HeUVU7etQyl+nPzVz+R5L7JnkkcCrwjm5+r+esOwV5MfCKbj1HA782j+1LkpapkQpV3R/cnwLeleQaBte1HNIt3ofBBcaTDK6DOTfJQXu+l7uvqq4HzgI+ziAMHAP8U7fsXcD/ZnCE6GvAe4EHdA/9U+BPulOGL6mqOxlcRH0u8AUGR3uGP0H3EgYh6GsMjoy9g/n7LeB/Jvka8DLgnbuxjp3OY3At1BXAzQwu8v5tgB61zOVez02P9v8IbAY+DPx5dz0YzO85O53Bqc0vMTiF/Tfz6K8kaZlK1XzPnjTuQLISuKyqHpXkfsCNVXXIDO3WAldW1fnd9IeBM6vqqj3ZX42n7n12M7Bvd4RMkqSmRupIVVXdBdzcfb0A3WmwnZ/0ei+Dj8OT5GAGpwP9hmtJkjQSlvorFS5icCrs4Um2Jnkhg4/fvzDJp4BNwAld88uB25NcD/wD8PtVdftS9Hu56L6aYvsMt5OXum+7I8nJs9Szaan7Jkla/pb89J8kSdJyMFKn/yRJksaVoUqSJKmB3f1W6gU7+OCDa+XKlb3a3n333ey///6L26Elspxrg+Vdn7UNXH311bdV1Xy+sFWSlqUlC1UrV67kk5/8ZK+2U1NTTE5OLm6Hlshyrg2Wd33WNpDEn+mRJDz9J0mS1IShSpIkqQFDlSRJUgOGKkmSpAYMVZIkSQ0YqiRJkhowVEmSJDWwZN9TNR8bv3Anp5z5/ubr3fLq5zRfpyRJ2jvNeaQqyXlJtiW5bpblJye5trt9LMlj2ndTkiRptPU5/Xc+sHoXy28GnlZVjwZeBaxr0C9JkqSxMufpv6q6IsnKXSz/2NDklcBhDfolSZI0VlpfqP5C4AON1ylJkjTyUlVzNxocqbqsqh61izbHAW8EnlJVt8/SZg2wBmBiYuLx69ev79XJbXfcyZe/0avpvBxz6P3br3Setm/fzgEHHLDU3Vg0y7k+axs47rjjrq6qVYvcJUkaeU0+/Zfk0cC5wPGzBSqAqlpHd83VqlWranJystf6z77wEs7a2P6DiltO7rf9xTQ1NUXf52EcLef6rE2SNGzBp/+SHAFcDDy/qj698C5JkiSNnzkP/yS5CJgEDk6yFXg5sC9AVa0FXgY8EHhjEoAdngqQJEl7mz6f/jtpjuUvAl7UrEeSJEljyJ+pkSRJasBQJUmS1IChSpIkqQFDlSRJUgOGKkmSpAYMVZIkSQ0YqiRJkhowVEmSJDVgqJIkSWrAUCVJktSAoUqSJKkBQ5UkSVIDhipJkqQGDFWSJEkNGKokSZIaMFRJkiQ1YKiSJElqwFAlSZLUgKFKkiSpAUOVJElSA3OGqiTnJdmW5LpZlifJ65NsTnJtkse176YkSdJo63Ok6nxg9S6WHw8c1d3WAG9aeLckSZLGy5yhqqquAO7YRZMTgAtq4ErgoCSHtOqgJEnSOGhxTdWhwC1D01u7eZIkSXuNfRqsIzPMqxkbJmsYnCJkYmKCqampXhuY2A/OOGbH7vZvVn23v5i2b98+Ev1YLMu5PmuTJA1rEaq2AocPTR8G3DpTw6paB6wDWLVqVU1OTvbawNkXXsJZG1t09d62nNxv+4tpamqKvs/DOFrO9VmbJGlYi9N/lwIv6D4F+CTgzqr6YoP1SpIkjY05D/8kuQiYBA5OshV4ObAvQFWtBTYAzwY2A18HTl2szkqSJI2qOUNVVZ00x/ICXtysR5IkSWPIb1SXJElqwFAlSZLUgKFKkiSpAUOVJElSA4YqSZKkBgxVkiRJDRiqJEmSGjBUSZIkNWCokiRJasBQJUmS1IChSpIkqQFDlSRJUgOGKkmSpAYMVZIkSQ0YqiRJkhowVEmSJDVgqJIkSWrAUCVJktSAoUqSJKkBQ5UkSVIDhipJkqQGeoWqJKuT3Jhkc5IzZ1h+/yTvS/KpJJuSnNq+q5IkSaNrzlCVZAVwDnA8cDRwUpKjpzV7MXB9VT0GmATOSnKfxn2VJEkaWX2OVB0LbK6qm6rqHmA9cMK0NgUcmCTAAcAdwI6mPZUkSRphqapdN0h+EVhdVS/qpp8PPLGqTh9qcyBwKfAI4EDgV6rq/TOsaw2wBmBiYuLx69ev79XJbXfcyZe/0avpvBxz6P3br3Setm/fzgEHHLDU3Vg0y7k+axs47rjjrq6qVYvcJUkaefv0aJMZ5k1PYs8CrgF+Bngo8KEkH6mqu+71oKp1wDqAVatW1eTkZK9Onn3hJZy1sU9X52fLyf22v5impqbo+zyMo+Vcn7VJkob1Of23FTh8aPow4NZpbU4FLq6BzcDNDI5aSZIk7RX6hKqrgKOSHNldfH4ig1N9wz4PPB0gyQTwcOCmlh2VJEkaZXOeU6uqHUlOBy4HVgDnVdWmJKd1y9cCrwLOT7KRwenCP6yq2xax35IkSSOl14VKVbUB2DBt3tqh+7cCz2zbNUmSpPHhN6pLkiQ1YKiSJElqwFAlSZLUgKFKkiSpAUOVJElSA4YqSZKkBgxVkiRJDRiqJEmSGjBUSZIkNWCokiRJasBQJUmS1IChSpIkqQFDlSRJUgOGKkmSpAYMVZIkSQ0YqiRJkhowVEmSJDVgqJIkSWrAUCVJktSAoUqSJKmBXqEqyeokNybZnOTMWdpMJrkmyaYk/9i2m5IkSaNtn7kaJFkBnAM8A9gKXJXk0qq6fqjNQcAbgdVV9fkkD1qk/kqSJI2kPkeqjgU2V9VNVXUPsB44YVqb5wEXV9XnAapqW9tuSpIkjbY5j1QBhwK3DE1vBZ44rc3DgH2TTAEHAn9ZVRdMX1GSNcAagImJCaampnp1cmI/OOOYHb3azkff7S+m7du3j0Q/Fstyrs/aJEnD+oSqzDCvZljP44GnA/sBH09yZVV9+l4PqloHrANYtWpVTU5O9urk2Rdewlkb+3R1frac3G/7i2lqaoq+z8M4Ws71WZskaVifpLIVOHxo+jDg1hna3FZVdwN3J7kCeAzwaSRJkvYCfa6pugo4KsmRSe4DnAhcOq3NJcBTk+yT5L4MTg/e0LarkiRJo2vOI1VVtSPJ6cDlwArgvKralOS0bvnaqrohyQeBa4HvAOdW1XWL2XFJkqRR0utCparaAGyYNm/ttOk/A/6sXdckSZLGh9+oLkmS1IChSpIkqQFDlSRJUgOGKkmSpAYMVZIkSQ0YqiRJkhowVEmSJDVgqJIkSWrAUCVJktSAoUqSJKkBQ5UkSVIDhipJkqQGDFWSJEkNGKokSZIaMFRJkiQ1YKiSJElqwFAlSZLUgKFKkiSpAUOVJElSA4YqSZKkBnqFqiSrk9yYZHOSM3fR7glJvp3kF9t1UZIkafTNGaqSrADOAY4HjgZOSnL0LO1eA1zeupOSJEmjrs+RqmOBzVV1U1XdA6wHTpih3W8D7wa2NeyfJEnSWOgTqg4Fbhma3trN+64khwLPBda265okSdL42KdHm8wwr6ZNvw74w6r6djJT825FyRpgDcDExARTU1O9OjmxH5xxzI5ebeej7/YX0/bt20eiH4tlOddnbZKkYX1C1Vbg8KHpw4Bbp7VZBazvAtXBwLOT7Kiq9w43qqp1wDqAVatW1eTkZK9Onn3hJZy1sU9X52fLyf22v5impqbo+zyMo+Vcn7VJkob1SSpXAUclORL4AnAi8LzhBlV15M77Sc4HLpseqCRJkpazOUNVVe1IcjqDT/WtAM6rqk1JTuuWex2VJEna6/U6p1ZVG4AN0+bNGKaq6pSFd0uSJGm8+I3qkiRJDRiqJEmSGjBUSZIkNWCokiRJasBQJUmS1IChSpIkqQFDlSRJUgOGKkmSpAYMVZIkSQ0YqiRJkhowVEmSJDVgqJIkSWrAUCVJktSAoUqSJKkBQ5UkSVIDhipJkqQGDFWSJEkNGKokSZIaMFRJkiQ1YKiSJElqoFeoSrI6yY1JNic5c4blJye5trt9LMlj2ndVkiRpdM0ZqpKsAM4BjgeOBk5KcvS0ZjcDT6uqRwOvAta17qgkSdIo63Ok6lhgc1XdVFX3AOuBE4YbVNXHquqr3eSVwGFtuylJkjTa+oSqQ4Fbhqa3dvNm80LgAwvplCRJ0rjZp0ebzDCvZmyYHMcgVD1lluVrgDUAExMTTE1N9erkxH5wxjE7erWdj77bX0zbt28fiX4sluVcn7VJkob1CVVbgcOHpg8Dbp3eKMmjgXOB46vq9plWVFXr6K63WrVqVU1OTvbq5NkXXsJZG/t0dX62nNxv+4tpamqKvs/DOFrO9VmbJGlYn9N/VwFHJTkyyX2AE4FLhxskOQK4GHh+VX26fTclSZJG25yHf6pqR5LTgcuBFcB5VbUpyWnd8rXAy4AHAm9MArCjqlYtXrclSZJGS69zalW1Adgwbd7aofsvAl7UtmuSJEnjw29UlyRJasBQJUmS1IChSpIkqQFDlSRJUgOGKkmSpAYMVZIkSQ0YqiRJkhowVEmSJDVgqJIkSWrAUCVJktSAoUqSJKkBQ5UkSVIDvX5QWdLCrDzz/Yuy3i2vfs6irFeSNH8eqZIkSWrAUCVJktSAoUqSJKkBQ5UkSVIDhipJkqQGDFWSJEkN+JUKi2A+H58/45gdnNKz/WJ9fH6xPu4PcP7q/Rdt3ZIkjZJeR6qSrE5yY5LNSc6cYXmSvL5bfm2Sx7XvqiRJ0uiaM1QlWQGcAxwPHA2clOToac2OB47qbmuANzXupyRJ0kjrc/rvWGBzVd0EkGQ9cAJw/VCbE4ALqqqAK5MclOSQqvpi8x43tJinvbS4RuG1m8+pW0nS8tcnVB0K3DI0vRV4Yo82hwIjHarGzSgECUmSNLM+oSozzKvdaEOSNQxODwJsT3Jjj+0DHAzc1rPtWPmdZVwbwHGvWb71jcJrl9cs2qrnU9tDFq0XkjRG+oSqrcDhQ9OHAbfuRhuqah2wbp59JMknq2rVfB83DpZzbbC867M2SdKwPp/+uwo4KsmRSe4DnAhcOq3NpcALuk8BPgm4c9Svp5IkSWppziNVVbUjyenA5cAK4Lyq2pTktG75WmAD8GxgM/B14NTF67IkSdLo6fXln1W1gUFwGp63duh+AS9u27V7mfcpwzGynGuD5V2ftUmSviuDPCRJkqSF8Lf/JEmSGhj5UDXXT+SMgyRbkmxMck2ST3bzHpDkQ0k+0/37w0PtX9rVe2OSZy1dz79fkvOSbEty3dC8edeS5PHdc7K5+4mjmb6WY4+apbZXJPlC99pdk+TZQ8vGqbbDk/xDkhuSbEryu938ZfHaSdIoGOlQ1fMncsbFcVX12KGPqZ8JfLiqjgI+3E3T1Xci8EhgNfDG7nkYFecz6New3anlTQy+s2znzxtNX+dSOJ+Z+/F/u9fusd31heNY2w7gjKr6CeBJwIu7GpbLaydJS26kQxVDP5FTVfcAO38iZzk4AXhLd/8twC8MzV9fVd+qqpsZfKLy2D3fvZlV1RXAHdNmz6uWJIcA96uqj3cfcrhg6DFLZpbaZjNutX2xqv6lu/814AYGv3qwLF47SRoFox6qZvv5m3FTwN8lubr7VnmAiZ3f5dX9+6Bu/jjWPN9aDu3uT58/qk5Pcm13enDn6bGxrS3JSuAngX9m+b92krTHjHqo6vXzN2PgyVX1OAanMV+c5Kd30Xa51Ayz1zJONb4JeCjwWAa/ZXlWN38sa0tyAPBu4Peq6q5dNZ1h3sjXJ0lLadRDVa+fvxl1VXVr9+824D0MTud9uTuVQvfvtq75ONY831q2dvenzx85VfXlqvp2VX0HeDPfOxU7drUl2ZdBoLqwqi7uZi/b106S9rRRD1V9fiJnpCXZP8mBO+8DzwSuY1DHr3XNfg24pLt/KXBikh9MciSDC4E/sWd7PW/zqqU7zfS1JE/qPjn2gqHHjJSdgaPzXAavHYxZbV1f/hq4oar+YmjRsn3tJGlP6/WN6ktltp/IWeJuzdcE8J7uU+f7AG+vqg8muQp4Z5IXAp8Hfgmg+wmgdwLXM/jE1our6ttL0/Xvl+QiYBI4OMlW4OXAq5l/Lb/J4NN2+wEf6G5LapbaJpM8lsEpri3Ab8D41QY8GXg+sDHJNd28P2KZvHaSNAr8RnVJkqQGRv30nyRJ0lgwVEmSJDVgqJIkSWrAUCVJktSAoUqSJKkBQ5UkSVIDhipJkqQGDFWSJEkN/D83k+tFazOMlAAAAABJRU5ErkJggg==\n",
      "text/plain": [
       "<Figure size 720x576 with 4 Axes>"
      ]
     },
     "metadata": {
      "needs_background": "light",
      "tags": []
     },
     "output_type": "display_data"
    }
   ],
   "source": [
    "# check the distribution of numerical features \n",
    "transactions.toPandas().hist(column = ['payment_plan_days', 'plan_list_price', 'actual_amount_paid'], figsize = (10,8))"
   ]
  },
  {
   "cell_type": "code",
   "execution_count": null,
   "metadata": {
    "id": "j-rP1iGrvZmp",
    "outputId": "f884bc7a-2fea-482b-f433-60cd4f4dcd5e"
   },
   "outputs": [
    {
     "data": {
      "text/plain": [
       "{'msno': 0,\n",
       " 'payment_method_id': 0,\n",
       " 'payment_plan_days': 0,\n",
       " 'plan_list_price': 0,\n",
       " 'actual_amount_paid': 0,\n",
       " 'is_auto_renew': 0,\n",
       " 'transaction_date': 0,\n",
       " 'membership_expire_date': 0}"
      ]
     },
     "execution_count": 25,
     "metadata": {
      "tags": []
     },
     "output_type": "execute_result"
    }
   ],
   "source": [
    "# Check for null values \n",
    "null_check = {col:transactions.filter(transactions[col].isNull()).count() for col in transactions.columns}\n",
    "null_check"
   ]
  },
  {
   "cell_type": "code",
   "execution_count": null,
   "metadata": {
    "id": "WJbCWWLPvZmp"
   },
   "outputs": [],
   "source": [
    "# We need to bring the transactions data to customer-level\n",
    "# Aggregate the data to get customer-level features\n",
    "\n",
    "# Find most frequent payment method by user\n",
    "window = Window.partitionBy(\"msno\").orderBy(col(\"count\").desc())\n",
    "transaction1 = transactions.groupby(\"msno\", \"payment_method_id\").count()\\\n",
    "                            .withColumn(\"order\", F.row_number().over(window))\\\n",
    "                            .where(col('order') == 1).select(\"msno\", \"payment_method_id\")\n",
    "\n",
    "# Find most frequent auto_renew by user\n",
    "window = Window.partitionBy(\"msno\").orderBy(col(\"count\").desc())\n",
    "transaction2 = transactions.groupby(\"msno\", \"is_auto_renew\").count()\\\n",
    "                            .withColumn(\"order\", F.row_number().over(window))\\\n",
    "                            .where(col('order') == 1).select(\"msno\", \"is_auto_renew\")"
   ]
  },
  {
   "cell_type": "code",
   "execution_count": null,
   "metadata": {
    "id": "A-D7hpNCvZmp"
   },
   "outputs": [],
   "source": [
    "# Aggregate numeric columns \n",
    "transaction3 = transactions.groupby(\"msno\").agg(F.count(F.lit(1)).alias(\"number_transactions\"),\n",
    "                                F.avg(F.col(\"payment_plan_days\")).alias(\"avg_payment_plan_days\"),\n",
    "                                F.avg(F.col(\"plan_list_price\")).alias(\"avg_plan_list_price\"),\n",
    "                                F.avg(F.col(\"actual_amount_paid\")).alias(\"avg_actual_amount_paid\"))"
   ]
  },
  {
   "cell_type": "code",
   "execution_count": null,
   "metadata": {
    "id": "V80DdFkYvZmp",
    "outputId": "d6cdc10a-e3d8-4e99-e72c-7afced77e125"
   },
   "outputs": [
    {
     "name": "stdout",
     "output_type": "stream",
     "text": [
      "+--------------------+-----------------+-------------+-------------------+---------------------+-------------------+----------------------+\n",
      "|                msno|payment_method_id|is_auto_renew|number_transactions|avg_payment_plan_days|avg_plan_list_price|avg_actual_amount_paid|\n",
      "+--------------------+-----------------+-------------+-------------------+---------------------+-------------------+----------------------+\n",
      "|+++snpr7pmobhLKUg...|               41|            1|                  1|                 30.0|              149.0|                 149.0|\n",
      "|++/ZHqwUNa7U21Qz+...|               14|            1|                  2|                 30.0|              149.0|                 149.0|\n",
      "|++0/NopttBsaAn6qH...|               41|            1|                  1|                 30.0|              149.0|                 149.0|\n",
      "|++0EzISdtKY48Z0GY...|               38|            0|                  1|                 30.0|              149.0|                 149.0|\n",
      "|++0nOC7BmrUTtcSbo...|               40|            1|                  1|                 30.0|              149.0|                 149.0|\n",
      "|++3A6JMzYJeron30G...|               41|            1|                  1|                 30.0|              149.0|                 149.0|\n",
      "|++3fWHRDC5GWWlovH...|               41|            1|                  1|                 30.0|               99.0|                  99.0|\n",
      "|++3wqX72HmowxFh5M...|               41|            1|                  1|                 30.0|               99.0|                  99.0|\n",
      "|++4RuqBw0Ss6bQU4o...|               41|            1|                  1|                 30.0|              149.0|                 149.0|\n",
      "|++5XBxbJNz3idK9eg...|               41|            1|                  1|                 30.0|              129.0|                 129.0|\n",
      "|++5Z7z4xXBhCjID+B...|               41|            1|                  1|                 30.0|               99.0|                  99.0|\n",
      "|++64pHA0OvDq9P9nE...|               41|            1|                  1|                 30.0|               99.0|                  99.0|\n",
      "|++6P09mCSJSh+Ft2p...|               39|            1|                  2|                 30.0|              149.0|                 149.0|\n",
      "|++6xEqu4JANaRY4Gj...|               41|            1|                  1|                 30.0|               99.0|                  99.0|\n",
      "|++8dXbkKMJ0rXwUc/...|               41|            1|                  1|                 30.0|               99.0|                  99.0|\n",
      "|++95tJZADNg8U8HKb...|               39|            1|                  2|                 30.0|              149.0|                 149.0|\n",
      "|++A3frr1K7edD9xpe...|               41|            1|                  1|                 30.0|               99.0|                  99.0|\n",
      "|++AQDoOxAjCANtzB0...|               32|            0|                  1|                415.0|             1599.0|                1599.0|\n",
      "|++Bks8kE9oclzxZM3...|               41|            1|                  1|                 30.0|               99.0|                  99.0|\n",
      "|++H2ji6yR76RytMvO...|               39|            1|                  2|                 30.0|              149.0|                 149.0|\n",
      "+--------------------+-----------------+-------------+-------------------+---------------------+-------------------+----------------------+\n",
      "only showing top 20 rows\n",
      "\n"
     ]
    }
   ],
   "source": [
    "# Merge the transaction subtables together to get transaction information grouped by user\n",
    "table1 = transaction1.join(transaction2, transaction1.msno == transaction2.msno, 'inner').drop(transaction1.msno)\n",
    "transaction_transform = table1.join(transaction3, table1.msno == transaction3.msno, 'inner')\\\n",
    "                             .select(table1.msno, table1.payment_method_id, table1.is_auto_renew,\n",
    "                            transaction3.number_transactions, transaction3.avg_payment_plan_days,\n",
    "                            transaction3.avg_plan_list_price, transaction3.avg_actual_amount_paid)\n",
    "transaction_transform.show()                                    "
   ]
  },
  {
   "cell_type": "markdown",
   "metadata": {
    "id": "s8wipW7YvZmq"
   },
   "source": [
    "**Explore dataset user_logs and perform pre-processing**"
   ]
  },
  {
   "cell_type": "code",
   "execution_count": null,
   "metadata": {
    "id": "wfH-5RTpvZmq",
    "outputId": "013e4e8e-80e3-4b79-fd63-2fcd785471ec"
   },
   "outputs": [
    {
     "name": "stdout",
     "output_type": "stream",
     "text": [
      "Dataset user_logs overview\n"
     ]
    },
    {
     "data": {
      "text/html": [
       "<div>\n",
       "<style scoped>\n",
       "    .dataframe tbody tr th:only-of-type {\n",
       "        vertical-align: middle;\n",
       "    }\n",
       "\n",
       "    .dataframe tbody tr th {\n",
       "        vertical-align: top;\n",
       "    }\n",
       "\n",
       "    .dataframe thead th {\n",
       "        text-align: right;\n",
       "    }\n",
       "</style>\n",
       "<table border=\"1\" class=\"dataframe\">\n",
       "  <thead>\n",
       "    <tr style=\"text-align: right;\">\n",
       "      <th></th>\n",
       "      <th>column name</th>\n",
       "      <th>data type</th>\n",
       "    </tr>\n",
       "  </thead>\n",
       "  <tbody>\n",
       "    <tr>\n",
       "      <th>0</th>\n",
       "      <td>msno</td>\n",
       "      <td>string</td>\n",
       "    </tr>\n",
       "    <tr>\n",
       "      <th>1</th>\n",
       "      <td>date</td>\n",
       "      <td>bigint</td>\n",
       "    </tr>\n",
       "    <tr>\n",
       "      <th>2</th>\n",
       "      <td>num_25</td>\n",
       "      <td>bigint</td>\n",
       "    </tr>\n",
       "    <tr>\n",
       "      <th>3</th>\n",
       "      <td>num_50</td>\n",
       "      <td>bigint</td>\n",
       "    </tr>\n",
       "    <tr>\n",
       "      <th>4</th>\n",
       "      <td>num_75</td>\n",
       "      <td>bigint</td>\n",
       "    </tr>\n",
       "    <tr>\n",
       "      <th>5</th>\n",
       "      <td>num_985</td>\n",
       "      <td>bigint</td>\n",
       "    </tr>\n",
       "    <tr>\n",
       "      <th>6</th>\n",
       "      <td>num_100</td>\n",
       "      <td>bigint</td>\n",
       "    </tr>\n",
       "    <tr>\n",
       "      <th>7</th>\n",
       "      <td>num_unq</td>\n",
       "      <td>bigint</td>\n",
       "    </tr>\n",
       "    <tr>\n",
       "      <th>8</th>\n",
       "      <td>total_secs</td>\n",
       "      <td>double</td>\n",
       "    </tr>\n",
       "  </tbody>\n",
       "</table>\n",
       "</div>"
      ],
      "text/plain": [
       "  column name data type\n",
       "0        msno    string\n",
       "1        date    bigint\n",
       "2      num_25    bigint\n",
       "3      num_50    bigint\n",
       "4      num_75    bigint\n",
       "5     num_985    bigint\n",
       "6     num_100    bigint\n",
       "7     num_unq    bigint\n",
       "8  total_secs    double"
      ]
     },
     "execution_count": 29,
     "metadata": {
      "tags": []
     },
     "output_type": "execute_result"
    }
   ],
   "source": [
    "print(\"Dataset user_logs overview\")\n",
    "pd.DataFrame(user_logs.dtypes, columns = ['column name','data type'])"
   ]
  },
  {
   "cell_type": "code",
   "execution_count": null,
   "metadata": {
    "id": "EGYaWpU0vZmq",
    "outputId": "82f8cba9-0432-4841-8df3-163a873f2d5f"
   },
   "outputs": [
    {
     "data": {
      "text/plain": [
       "{'msno': 0,\n",
       " 'date': 0,\n",
       " 'num_25': 0,\n",
       " 'num_50': 0,\n",
       " 'num_75': 0,\n",
       " 'num_985': 0,\n",
       " 'num_100': 0,\n",
       " 'num_unq': 0,\n",
       " 'total_secs': 0}"
      ]
     },
     "execution_count": 30,
     "metadata": {
      "tags": []
     },
     "output_type": "execute_result"
    }
   ],
   "source": [
    "# Check for null values \n",
    "null_check = {col:user_logs.filter(user_logs[col].isNull()).count() for col in user_logs.columns}\n",
    "null_check"
   ]
  },
  {
   "cell_type": "code",
   "execution_count": null,
   "metadata": {
    "id": "lNlK_W58vZmq",
    "outputId": "4a9a9bc2-3478-4e00-c8fa-f7710c3f8a7b"
   },
   "outputs": [
    {
     "data": {
      "text/plain": [
       "array([[<AxesSubplot:title={'center':'num_25'}>,\n",
       "        <AxesSubplot:title={'center':'num_50'}>],\n",
       "       [<AxesSubplot:title={'center':'num_75'}>,\n",
       "        <AxesSubplot:title={'center':'num_985'}>],\n",
       "       [<AxesSubplot:title={'center':'num_100'}>,\n",
       "        <AxesSubplot:title={'center':'total_secs'}>]], dtype=object)"
      ]
     },
     "execution_count": 31,
     "metadata": {
      "tags": []
     },
     "output_type": "execute_result"
    },
    {
     "data": {
      "image/png": "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\n",
      "text/plain": [
       "<Figure size 720x720 with 6 Axes>"
      ]
     },
     "metadata": {
      "needs_background": "light",
      "tags": []
     },
     "output_type": "display_data"
    }
   ],
   "source": [
    "# Plot the distribution for numeric features\n",
    "user_logs.toPandas().hist(column = ['num_25', 'num_50', 'num_75', 'num_985', 'num_100', 'total_secs'], figsize = (10,10))"
   ]
  },
  {
   "cell_type": "code",
   "execution_count": null,
   "metadata": {
    "id": "33GsC13avZmq"
   },
   "outputs": [],
   "source": [
    "# Since user logs records many daily logs for each user, \n",
    "# we need to group it to user-level\n",
    "# Here we will aggregate each user's average record\n",
    "# We will also list the user's last_record \n",
    "\n",
    "# Aggregate numeric columns \n",
    "user_log1 = user_logs.groupby(\"msno\").agg(F.count(F.lit(1)).alias(\"active_days\"),\n",
    "                                F.avg(F.col(\"num_25\")).alias(\"avg_num_25\"),\n",
    "                                F.avg(F.col(\"num_50\")).alias(\"avg_num_50\"),\n",
    "                                F.avg(F.col(\"num_75\")).alias(\"avg_num_75\"),\n",
    "                                F.avg(F.col(\"num_985\")).alias(\"avg_num_985\"),\n",
    "                                F.avg(F.col(\"num_100\")).alias(\"avg_num_100\"),\n",
    "                                F.avg(F.col(\"total_secs\")).alias(\"avg_total_secs\"))"
   ]
  },
  {
   "cell_type": "code",
   "execution_count": null,
   "metadata": {
    "id": "a1wfWfhQvZmr"
   },
   "outputs": [],
   "source": [
    "# Get each user's most recent daily log\n",
    "user_log2 = user_logs.withColumn(\"rn\", F.row_number().over(Window.partitionBy(\"msno\").orderBy(F.col(\"date\").desc())))\n",
    "\n",
    "user_log2 = user_log2.filter(F.col(\"rn\") == 1).drop(\"rn\")"
   ]
  },
  {
   "cell_type": "code",
   "execution_count": null,
   "metadata": {
    "id": "Xib_AWvtvZmr",
    "outputId": "589493eb-e58f-4c94-b13e-a328217f2b31"
   },
   "outputs": [
    {
     "name": "stdout",
     "output_type": "stream",
     "text": [
      "+-----------+-------------------+------------------+-------------------+-------------------+------------------+------------------+--------------------+------+------+------+-------+-------+-------+----------+\n",
      "|active_days|         avg_num_25|        avg_num_50|         avg_num_75|        avg_num_985|       avg_num_100|    avg_total_secs|                msno|num_25|num_50|num_75|num_985|num_100|num_unq|total_secs|\n",
      "+-----------+-------------------+------------------+-------------------+-------------------+------------------+------------------+--------------------+------+------+------+-------+-------+-------+----------+\n",
      "|          8|              2.625|               1.0|              2.125|              0.875|              13.0|3556.2834999999995|++0/NopttBsaAn6qH...|     1|     0|     2|      0|      5|      7|  1373.601|\n",
      "|          1|               14.0|               1.0|                0.0|                0.0|               9.0|          2362.332|++4RuqBw0Ss6bQU4o...|    14|     1|     0|      0|      9|     24|  2362.332|\n",
      "|          3|                0.0|0.6666666666666666|                0.0|                0.0|               4.0| 998.3156666666667|++6P09mCSJSh+Ft2p...|     0|     2|     0|      0|      5|      7|  1357.419|\n",
      "|          2|                7.5|               0.5|                0.0|                1.0|              62.0|         15051.001|++IjUd9FuFrDCcPCx...|     1|     0|     0|      0|      2|      3|   620.511|\n",
      "|          1|                1.0|               1.0|                1.0|                1.0|               2.0|           854.165|++JHjhFuSV7upQUju...|     1|     1|     1|      1|      2|      5|   854.165|\n",
      "|          9| 3.4444444444444446|0.7777777777777778| 0.6666666666666666| 0.5555555555555556|  8.11111111111111|          2104.517|++UrWpg7IekInPcWf...|     4|     2|     2|      1|      6|     13|  2989.932|\n",
      "|          9|  7.888888888888889|1.6666666666666667|                1.0|                1.0|28.444444444444443| 7648.481777777777|++UyRqjARgvFXB6Yd...|    19|     3|     3|      3|     62|     63| 17247.753|\n",
      "|         21|  4.571428571428571|1.4285714285714286| 0.9523809523809523|                1.0| 14.19047619047619|  3760.32038095238|++f8snpQnmR06b0a8...|     3|     1|     0|      2|      9|     15|   2976.25|\n",
      "|         28| 27.035714285714285|1.2142857142857142| 0.7857142857142857| 0.8571428571428571|18.571428571428573|  5424.44532142857|++hTNyKbQJonbwH4z...|    47|     0|     1|      3|     20|     67|  5834.828|\n",
      "|         19| 10.631578947368421| 0.631578947368421| 0.6842105263157895| 0.6842105263157895|15.842105263157896|3912.1341578947367|++orpnUqSevh2M5A9...|     2|     0|     0|      0|      5|      7|  1122.869|\n",
      "|         23| 0.7391304347826086|0.2608695652173913|0.13043478260869565|0.34782608695652173| 36.82608695652174| 10531.82986956522|++pSqgOqSB8laOm+R...|     0|     0|     0|      0|     10|      1|   2873.28|\n",
      "|         19|  2.526315789473684|0.5789473684210527|0.42105263157894735| 0.2631578947368421| 12.68421052631579| 3651.651789473684|++ywLqSa3Ts36aYwZ...|     3|     0|     0|      0|     13|     13|  3636.475|\n",
      "|         14| 2.2142857142857144|0.5714285714285714| 0.6428571428571429| 0.7857142857142857|26.714285714285715| 6761.240642857141|++zdRpzvpUaDqD5sv...|     0|     0|     1|      1|     34|     34|  8174.173|\n",
      "|          5|                2.2|               0.2|                0.4|                0.6|              10.8|         2792.7034|+/3AlIwWITFtPuXyK...|     3|     1|     0|      0|     24|     25|  5043.429|\n",
      "|         29| 2.3448275862068964|0.5517241379310345| 0.4482758620689655|0.10344827586206896|21.862068965517242| 5510.319137931036|+/EQBT8oqkNKHZDsT...|    20|     2|     1|      0|     28|     43|  7164.202|\n",
      "|         17|0.47058823529411764|1.0588235294117647|0.17647058823529413|0.47058823529411764|              12.0|3471.3622941176473|+/eG3UpwFCue/nfZs...|     0|     0|     0|      0|      1|      1|     281.0|\n",
      "|         29| 6.0344827586206895|0.7241379310344828| 0.3448275862068966|0.27586206896551724| 36.62068965517241| 9113.944241379311|+/eU+cOIqC35MGrmn...|     0|     0|     0|      0|      6|      6|    1511.0|\n",
      "|         19|  6.105263157894737| 3.210526315789474| 1.7894736842105263|  0.631578947368421|              25.0| 7021.926421052631|+/jSYWhQxVdB3T4XC...|     1|     0|     0|      0|      5|      1|  1428.061|\n",
      "|         30|  8.333333333333334|2.1333333333333333| 1.2666666666666666| 1.1666666666666667|              34.7| 9354.308500000001|+/jvigyuVWBDBgjIf...|     4|     1|     1|      0|     17|      7|   4869.87|\n",
      "|          2|                1.5|               1.0|                0.0|                0.0|              12.5|          3263.543|+/mUb99nNFMD2bAk3...|     3|     1|     0|      0|     16|     18|    4030.8|\n",
      "+-----------+-------------------+------------------+-------------------+-------------------+------------------+------------------+--------------------+------+------+------+-------+-------+-------+----------+\n",
      "only showing top 20 rows\n",
      "\n"
     ]
    }
   ],
   "source": [
    "# Merge the transformed user_log data \n",
    "user_logs_transformed = user_log1.join(user_log2, user_log1.msno == user_log2.msno, \"inner\").drop(user_log2.msno).drop(user_log2.date)\n",
    "user_logs_transformed = user_logs_transformed.drop(user_logs_transformed.date)\n",
    "user_logs_transformed.show()"
   ]
  },
  {
   "cell_type": "markdown",
   "metadata": {
    "id": "KGOZZjDYvZmr"
   },
   "source": [
    "**Explore dataset members and perform pre-processing**"
   ]
  },
  {
   "cell_type": "code",
   "execution_count": null,
   "metadata": {
    "id": "twEgqx6OvZmr",
    "outputId": "efdfb6ad-f74e-4a2f-b417-76a5ed958986"
   },
   "outputs": [
    {
     "name": "stdout",
     "output_type": "stream",
     "text": [
      "Dataset members overview\n"
     ]
    },
    {
     "data": {
      "text/html": [
       "<div>\n",
       "<style scoped>\n",
       "    .dataframe tbody tr th:only-of-type {\n",
       "        vertical-align: middle;\n",
       "    }\n",
       "\n",
       "    .dataframe tbody tr th {\n",
       "        vertical-align: top;\n",
       "    }\n",
       "\n",
       "    .dataframe thead th {\n",
       "        text-align: right;\n",
       "    }\n",
       "</style>\n",
       "<table border=\"1\" class=\"dataframe\">\n",
       "  <thead>\n",
       "    <tr style=\"text-align: right;\">\n",
       "      <th></th>\n",
       "      <th>column name</th>\n",
       "      <th>data type</th>\n",
       "    </tr>\n",
       "  </thead>\n",
       "  <tbody>\n",
       "    <tr>\n",
       "      <th>0</th>\n",
       "      <td>msno</td>\n",
       "      <td>string</td>\n",
       "    </tr>\n",
       "    <tr>\n",
       "      <th>1</th>\n",
       "      <td>city</td>\n",
       "      <td>bigint</td>\n",
       "    </tr>\n",
       "    <tr>\n",
       "      <th>2</th>\n",
       "      <td>bd</td>\n",
       "      <td>bigint</td>\n",
       "    </tr>\n",
       "    <tr>\n",
       "      <th>3</th>\n",
       "      <td>gender</td>\n",
       "      <td>string</td>\n",
       "    </tr>\n",
       "    <tr>\n",
       "      <th>4</th>\n",
       "      <td>registered_via</td>\n",
       "      <td>bigint</td>\n",
       "    </tr>\n",
       "    <tr>\n",
       "      <th>5</th>\n",
       "      <td>registration_init_time</td>\n",
       "      <td>bigint</td>\n",
       "    </tr>\n",
       "  </tbody>\n",
       "</table>\n",
       "</div>"
      ],
      "text/plain": [
       "              column name data type\n",
       "0                    msno    string\n",
       "1                    city    bigint\n",
       "2                      bd    bigint\n",
       "3                  gender    string\n",
       "4          registered_via    bigint\n",
       "5  registration_init_time    bigint"
      ]
     },
     "execution_count": 35,
     "metadata": {
      "tags": []
     },
     "output_type": "execute_result"
    }
   ],
   "source": [
    "print(\"Dataset members overview\")\n",
    "pd.DataFrame(members.dtypes, columns = ['column name','data type'])"
   ]
  },
  {
   "cell_type": "code",
   "execution_count": null,
   "metadata": {
    "id": "cj65-sDSvZmr"
   },
   "outputs": [],
   "source": [
    "# Convert categorical features stored as bigint to string \n",
    "members = members.withColumn(\"city\", members[\"city\"].cast(StringType()))\n",
    "members = members.withColumn(\"registered_via\", members[\"registered_via\"].cast(StringType()))\n",
    "\n",
    "# Drop registration_init_time\n",
    "members = members.drop(members.registration_init_time)"
   ]
  },
  {
   "cell_type": "code",
   "execution_count": null,
   "metadata": {
    "id": "eyB5uhnYvZmr",
    "outputId": "10ea1536-5390-463c-b193-48f59d455abf"
   },
   "outputs": [
    {
     "data": {
      "text/plain": [
       "<AxesSubplot:xlabel='city', ylabel='count'>"
      ]
     },
     "execution_count": 37,
     "metadata": {
      "tags": []
     },
     "output_type": "execute_result"
    },
    {
     "data": {
      "image/png": "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\n",
      "text/plain": [
       "<Figure size 432x288 with 1 Axes>"
      ]
     },
     "metadata": {
      "needs_background": "light",
      "tags": []
     },
     "output_type": "display_data"
    }
   ],
   "source": [
    "# Check distribution of city\n",
    "sns.countplot(x=\"city\", data = members.toPandas())"
   ]
  },
  {
   "cell_type": "code",
   "execution_count": null,
   "metadata": {
    "id": "voNXdiJCvZms",
    "outputId": "95416d49-d9c8-49fb-fe7b-f9b90e771477"
   },
   "outputs": [
    {
     "data": {
      "text/plain": [
       "<AxesSubplot:xlabel='gender', ylabel='count'>"
      ]
     },
     "execution_count": 38,
     "metadata": {
      "tags": []
     },
     "output_type": "execute_result"
    },
    {
     "data": {
      "image/png": "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\n",
      "text/plain": [
       "<Figure size 432x288 with 1 Axes>"
      ]
     },
     "metadata": {
      "needs_background": "light",
      "tags": []
     },
     "output_type": "display_data"
    }
   ],
   "source": [
    "# Check distribution of gender\n",
    "sns.countplot(x=\"gender\", data = members.toPandas())"
   ]
  },
  {
   "cell_type": "code",
   "execution_count": null,
   "metadata": {
    "id": "92xEqVFpvZms",
    "outputId": "fb3285cf-3570-46f9-8753-29c7d9f83903"
   },
   "outputs": [
    {
     "data": {
      "text/plain": [
       "<AxesSubplot:xlabel='registered_via', ylabel='count'>"
      ]
     },
     "execution_count": 39,
     "metadata": {
      "tags": []
     },
     "output_type": "execute_result"
    },
    {
     "data": {
      "image/png": "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\n",
      "text/plain": [
       "<Figure size 432x288 with 1 Axes>"
      ]
     },
     "metadata": {
      "needs_background": "light",
      "tags": []
     },
     "output_type": "display_data"
    }
   ],
   "source": [
    "# Check distribution of registration method\n",
    "sns.countplot(x=\"registered_via\", data = members.toPandas())"
   ]
  },
  {
   "cell_type": "code",
   "execution_count": null,
   "metadata": {
    "id": "palHa-NCvZms",
    "outputId": "87d130bd-c4e6-4f18-86ce-276f1bdcc74b"
   },
   "outputs": [
    {
     "data": {
      "text/plain": [
       "<AxesSubplot:xlabel='bd'>"
      ]
     },
     "execution_count": 40,
     "metadata": {
      "tags": []
     },
     "output_type": "execute_result"
    },
    {
     "data": {
      "image/png": "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\n",
      "text/plain": [
       "<Figure size 432x288 with 1 Axes>"
      ]
     },
     "metadata": {
      "tags": []
     },
     "output_type": "display_data"
    }
   ],
   "source": [
    "# We are informed that the members dataset may contain outliers for the bd(age) column,\n",
    "# we can check this by boxplot\n",
    "sns.set_theme(style=\"whitegrid\")\n",
    "sns.boxplot(x=members.toPandas()[\"bd\"])"
   ]
  },
  {
   "cell_type": "code",
   "execution_count": null,
   "metadata": {
    "id": "oMFKHEW8vZms",
    "outputId": "7ddecaf7-a79c-40a7-89a6-fa6be1d165bc"
   },
   "outputs": [
    {
     "data": {
      "text/plain": [
       "count    6.769473e+06\n",
       "mean     9.795794e+00\n",
       "std      1.792590e+01\n",
       "min     -7.168000e+03\n",
       "25%      0.000000e+00\n",
       "50%      0.000000e+00\n",
       "75%      2.100000e+01\n",
       "max      2.016000e+03\n",
       "Name: bd, dtype: float64"
      ]
     },
     "execution_count": 41,
     "metadata": {
      "tags": []
     },
     "output_type": "execute_result"
    }
   ],
   "source": [
    "# Summary stats on age\n",
    "members.toPandas()[\"bd\"].describe()"
   ]
  },
  {
   "cell_type": "code",
   "execution_count": null,
   "metadata": {
    "id": "hwqkSBIcvZms",
    "outputId": "fdb4b715-406c-47ee-e41a-0d91e9fc6998"
   },
   "outputs": [
    {
     "name": "stderr",
     "output_type": "stream",
     "text": [
      "/opt/conda/miniconda3/lib/python3.8/site-packages/seaborn/distributions.py:2557: FutureWarning: `distplot` is a deprecated function and will be removed in a future version. Please adapt your code to use either `displot` (a figure-level function with similar flexibility) or `histplot` (an axes-level function for histograms).\n",
      "  warnings.warn(msg, FutureWarning)\n"
     ]
    },
    {
     "data": {
      "text/plain": [
       "<AxesSubplot:xlabel='bd', ylabel='Density'>"
      ]
     },
     "execution_count": 42,
     "metadata": {
      "tags": []
     },
     "output_type": "execute_result"
    },
    {
     "data": {
      "image/png": "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\n",
      "text/plain": [
       "<Figure size 432x288 with 1 Axes>"
      ]
     },
     "metadata": {
      "tags": []
     },
     "output_type": "display_data"
    }
   ],
   "source": [
    "# Check age distribution only for entries between 0 and 100 \n",
    "sns.distplot(members.toPandas()[\"bd\"][(members.toPandas()[\"bd\"] < 100 ) & (members.toPandas()[\"bd\"] > 0)])"
   ]
  },
  {
   "cell_type": "code",
   "execution_count": null,
   "metadata": {
    "id": "RUKxn1U1vZms"
   },
   "outputs": [],
   "source": [
    "# Replace age outlier values (age out of range(0,100)) with age 21\n",
    "members = members.withColumn(\"bd\", F.when( (F.col(\"bd\") < 0) | (F.col(\"bd\") > 100), 21).otherwise(members.bd))"
   ]
  },
  {
   "cell_type": "code",
   "execution_count": null,
   "metadata": {
    "id": "jCpILRpbvZmt",
    "outputId": "ba8fafd6-e4d0-41f8-f8be-05664f50d576"
   },
   "outputs": [
    {
     "data": {
      "text/plain": [
       "{'msno': 0, 'city': 0, 'bd': 0, 'gender': 4429505, 'registered_via': 0}"
      ]
     },
     "execution_count": 44,
     "metadata": {
      "tags": []
     },
     "output_type": "execute_result"
    }
   ],
   "source": [
    "# Check for null values \n",
    "null_check = {col:members.filter(members[col].isNull()).count() for col in members.columns}\n",
    "null_check"
   ]
  },
  {
   "cell_type": "code",
   "execution_count": null,
   "metadata": {
    "id": "tJp3krQnvZmt"
   },
   "outputs": [],
   "source": [
    "# Gender columns has many null values, impute null with 'unknown'\n",
    "members = members.withColumn(\"gender\", F.when(members.gender.isNull(), \"unknown\").otherwise(members.gender))"
   ]
  },
  {
   "cell_type": "code",
   "execution_count": null,
   "metadata": {
    "id": "ZQds7pq0vZmt",
    "outputId": "9a89b635-0857-4496-8353-9f50235fbba0"
   },
   "outputs": [
    {
     "name": "stdout",
     "output_type": "stream",
     "text": [
      "+--------------------+----+---+-------+--------------+\n",
      "|                msno|city| bd| gender|registered_via|\n",
      "+--------------------+----+---+-------+--------------+\n",
      "|+++4vcS9aMH7KWdfh...|  12| 27| female|             9|\n",
      "|+++5EL4GxAvkaQctw...|   6| 33|   male|             3|\n",
      "|+++A5IxXtG7Qtf8jD...|   1| 17|   male|             3|\n",
      "|+++EI4HgyhgcJHIPX...|   1|  0|unknown|             4|\n",
      "|+++FOrTS7ab3tIgIh...|  15| 28| female|             9|\n",
      "|+++IZseRRiQS9aaSk...|   6| 22| female|             3|\n",
      "|+++PjrpErQjtjL3by...|   1|  0|unknown|             3|\n",
      "|+++TipL0Kt3JvgNE9...|   1|  0|unknown|             4|\n",
      "|+++ceu6HDcfpatMwL...|  12| 19|   male|             4|\n",
      "|+++dz9ZCWE2HB/47p...|   1|  0|unknown|             4|\n",
      "|+++eEa/F/qa2mtOPG...|   1|  0|unknown|             4|\n",
      "|+++hVY1rZox/33Ytv...|   1|  0|unknown|             7|\n",
      "|+++l/EXNMLTijfLBa...|  15| 26|   male|             9|\n",
      "|+++rMjxjARDHEx9zE...|   6| 22| female|             3|\n",
      "|+++snpr7pmobhLKUg...|   1|  0|unknown|             7|\n",
      "|+++tnuKxIMqc8AGBa...|   1|  0|   male|             3|\n",
      "|+++uL+jJqrNfhjN9i...|   8| 58|   male|             3|\n",
      "|+++yyOJRgojDBRDd8...|   9| 31| female|             9|\n",
      "|++//p4u8bCX0VuvkU...|   1|  0|unknown|             4|\n",
      "|++/0cu51D+hGQTXJD...|   1|  0|unknown|             4|\n",
      "+--------------------+----+---+-------+--------------+\n",
      "only showing top 20 rows\n",
      "\n"
     ]
    }
   ],
   "source": [
    "# Show members\n",
    "members.show()"
   ]
  },
  {
   "cell_type": "markdown",
   "metadata": {
    "id": "0aX-RjqlvZmt"
   },
   "source": [
    "**Combine the given traning dataset with the processed transaction, user_log, and member data together as the final training dataset**"
   ]
  },
  {
   "cell_type": "code",
   "execution_count": null,
   "metadata": {
    "id": "8QRsrW01vZmt"
   },
   "outputs": [],
   "source": [
    "temp1 = train.join(transaction_transform, train.msno == transaction_transform.msno, \"inner\").drop(transaction_transform.msno)\n",
    "\n",
    "temp2 = temp1.join(user_logs_transformed, temp1.msno == user_logs_transformed.msno, \"inner\").drop(user_logs_transformed.msno)\n",
    "\n",
    "df_train = temp2.join(members, temp2.msno == members.msno, \"inner\").drop(members.msno)"
   ]
  },
  {
   "cell_type": "code",
   "execution_count": null,
   "metadata": {
    "id": "d6XyqUe_vZmt"
   },
   "outputs": [],
   "source": [
    "# Set binary values to string, set label to double \n",
    "df_train = df_train.withColumn(\"is_churn\", df_train[\"is_churn\"].cast(DoubleType()))\n",
    "df_train = df_train.withColumn(\"is_auto_renew\", df_train[\"is_auto_renew\"].cast(StringType()))"
   ]
  },
  {
   "cell_type": "code",
   "execution_count": null,
   "metadata": {
    "id": "8LD9KX7pvZmu",
    "outputId": "f4eaa4f2-26ce-4ebe-980f-f9bc5cb477b5"
   },
   "outputs": [
    {
     "name": "stdout",
     "output_type": "stream",
     "text": [
      "+--------------------+--------+-----------------+-------------+-------------------+---------------------+-------------------+----------------------+-----------+------------------+------------------+-------------------+-------------------+------------------+------------------+------+------+------+-------+-------+-------+----------+----+---+-------+--------------+\n",
      "|                msno|is_churn|payment_method_id|is_auto_renew|number_transactions|avg_payment_plan_days|avg_plan_list_price|avg_actual_amount_paid|active_days|        avg_num_25|        avg_num_50|         avg_num_75|        avg_num_985|       avg_num_100|    avg_total_secs|num_25|num_50|num_75|num_985|num_100|num_unq|total_secs|city| bd| gender|registered_via|\n",
      "+--------------------+--------+-----------------+-------------+-------------------+---------------------+-------------------+----------------------+-----------+------------------+------------------+-------------------+-------------------+------------------+------------------+------+------+------+-------+-------+-------+----------+----+---+-------+--------------+\n",
      "|++0/NopttBsaAn6qH...|     0.0|               41|            1|                  1|                 30.0|              149.0|                 149.0|          8|             2.625|               1.0|              2.125|              0.875|              13.0| 3556.283499999999|     1|     0|     2|      0|      5|      7|  1373.601|   1|  0|unknown|             7|\n",
      "|++4RuqBw0Ss6bQU4o...|     0.0|               41|            1|                  1|                 30.0|              149.0|                 149.0|          1|              14.0|               1.0|                0.0|                0.0|               9.0|          2362.332|    14|     1|     0|      0|      9|     24|  2362.332|   1|  0|unknown|             7|\n",
      "|++6P09mCSJSh+Ft2p...|     0.0|               39|            1|                  2|                 30.0|              149.0|                 149.0|          3|               0.0|0.6666666666666666|                0.0|                0.0|               4.0| 998.3156666666667|     0|     2|     0|      0|      5|      7|  1357.419|  22| 35|   male|             9|\n",
      "|++JHjhFuSV7upQUju...|     0.0|               41|            1|                  1|                 30.0|              100.0|                 100.0|          1|               1.0|               1.0|                1.0|                1.0|               2.0|           854.165|     1|     1|     1|      1|      2|      5|   854.165|   1|  0|unknown|             7|\n",
      "|++UrWpg7IekInPcWf...|     0.0|               39|            1|                  2|                 30.0|              149.0|                 149.0|          9|3.4444444444444446|0.7777777777777778| 0.6666666666666666| 0.5555555555555556|  8.11111111111111|          2104.517|     4|     2|     2|      1|      6|     13|  2989.932|  17| 45|   male|             3|\n",
      "|++UyRqjARgvFXB6Yd...|     0.0|               41|            1|                  1|                 30.0|               99.0|                  99.0|          9| 7.888888888888889|1.6666666666666667|                1.0|                1.0|28.444444444444443| 7648.481777777777|    19|     3|     3|      3|     62|     63| 17247.753|   5| 24|   male|             7|\n",
      "|++f8snpQnmR06b0a8...|     0.0|               41|            1|                  1|                 30.0|              149.0|                 149.0|         21| 4.571428571428571|1.4285714285714286| 0.9523809523809523|                1.0| 14.19047619047619|3760.3203809523816|     3|     1|     0|      2|      9|     15|   2976.25|   1|  0|unknown|             7|\n",
      "|++hTNyKbQJonbwH4z...|     0.0|               39|            1|                  2|                 30.0|              149.0|                 149.0|         28|27.035714285714285|1.2142857142857142| 0.7857142857142857| 0.8571428571428571|18.571428571428573| 5424.445321428572|    47|     0|     1|      3|     20|     67|  5834.828|  13| 26|   male|             7|\n",
      "|++orpnUqSevh2M5A9...|     0.0|               41|            1|                  1|                 30.0|               99.0|                  99.0|         19|10.631578947368421| 0.631578947368421| 0.6842105263157895| 0.6842105263157895|15.842105263157896|3912.1341578947377|     2|     0|     0|      0|      5|      7|  1122.869|   1|  0|unknown|             7|\n",
      "|++pSqgOqSB8laOm+R...|     0.0|               41|            1|                  1|                 30.0|               99.0|                  99.0|         23|0.7391304347826086|0.2608695652173913|0.13043478260869565|0.34782608695652173| 36.82608695652174|10531.829869565217|     0|     0|     0|      0|     10|      1|   2873.28|   5| 47|   male|             7|\n",
      "|++ywLqSa3Ts36aYwZ...|     0.0|               41|            1|                  1|                 30.0|              149.0|                 149.0|         19| 2.526315789473684|0.5789473684210527|0.42105263157894735| 0.2631578947368421| 12.68421052631579|3651.6517894736844|     3|     0|     0|      0|     13|     13|  3636.475|   1|  0|unknown|             7|\n",
      "|+/3AlIwWITFtPuXyK...|     0.0|               41|            1|                  1|                 30.0|               99.0|                  99.0|          5|               2.2|               0.2|                0.4|                0.6|              10.8|         2792.7034|     3|     1|     0|      0|     24|     25|  5043.429|   1|  0|unknown|             7|\n",
      "|+/EQBT8oqkNKHZDsT...|     0.0|               41|            1|                  1|                 30.0|               99.0|                  99.0|         29|2.3448275862068964|0.5517241379310345| 0.4482758620689655|0.10344827586206896|21.862068965517242| 5510.319137931035|    20|     2|     1|      0|     28|     43|  7164.202|   1|  0|unknown|             7|\n",
      "|+/eU+cOIqC35MGrmn...|     0.0|               41|            1|                  1|                 30.0|               99.0|                  99.0|         29|6.0344827586206895|0.7241379310344828| 0.3448275862068966|0.27586206896551724| 36.62068965517241| 9113.944241379311|     0|     0|     0|      0|      6|      6|    1511.0|   1|  0|unknown|             7|\n",
      "|+/jSYWhQxVdB3T4XC...|     0.0|               40|            1|                  1|                 30.0|              149.0|                 149.0|         19| 6.105263157894737| 3.210526315789474| 1.7894736842105263|  0.631578947368421|              25.0| 7021.926421052631|     1|     0|     0|      0|      5|      1|  1428.061|  22| 33| female|             4|\n",
      "|+/jvigyuVWBDBgjIf...|     0.0|               14|            1|                  1|                 30.0|              149.0|                 149.0|         30| 8.333333333333334|2.1333333333333333| 1.2666666666666666| 1.1666666666666667|              34.7| 9354.308500000001|     4|     1|     1|      0|     17|      7|   4869.87|  17| 41| female|             9|\n",
      "|+/mUb99nNFMD2bAk3...|     0.0|               39|            1|                  2|                 30.0|              149.0|                 149.0|          2|               1.5|               1.0|                0.0|                0.0|              12.5|          3263.543|     3|     1|     0|      0|     16|     18|    4030.8|  15| 30|   male|             9|\n",
      "|+/namlXq+u3izRjHC...|     0.0|               34|            1|                  1|                 30.0|              149.0|                 149.0|         23| 42.17391304347826|2.5217391304347827| 1.0869565217391304| 0.8695652173913043|30.217391304347824| 8540.991739130435|   129|     2|     1|      0|     33|    161|   9553.66|  15| 31|   male|             9|\n",
      "|+/o1K0v6t2cGYPuuC...|     1.0|               36|            0|                  1|                 30.0|              180.0|                 180.0|         16|             3.625|            0.3125|             0.5625|             0.1875|               7.0|1934.6470624999997|     0|     0|     0|      0|      4|      4|  1067.544|   1| 36| female|             3|\n",
      "|+/qo1BXDMfP2wkFBb...|     0.0|               41|            1|                  1|                 30.0|               99.0|                  99.0|         25|              6.88|              0.48|               0.72|                0.6|              12.6|3393.7426400000004|     1|     0|     0|      0|      7|      8|  1771.048|   1|  0|unknown|             7|\n",
      "+--------------------+--------+-----------------+-------------+-------------------+---------------------+-------------------+----------------------+-----------+------------------+------------------+-------------------+-------------------+------------------+------------------+------+------+------+-------+-------+-------+----------+----+---+-------+--------------+\n",
      "only showing top 20 rows\n",
      "\n"
     ]
    }
   ],
   "source": [
    "df_train.show()"
   ]
  },
  {
   "cell_type": "code",
   "execution_count": null,
   "metadata": {
    "id": "BU9IZSarvZmu",
    "outputId": "172ca8c4-0750-4074-b6fa-d5a2df493e13"
   },
   "outputs": [
    {
     "name": "stdout",
     "output_type": "stream",
     "text": [
      "Final train dataset overview\n"
     ]
    },
    {
     "data": {
      "text/html": [
       "<div>\n",
       "<style scoped>\n",
       "    .dataframe tbody tr th:only-of-type {\n",
       "        vertical-align: middle;\n",
       "    }\n",
       "\n",
       "    .dataframe tbody tr th {\n",
       "        vertical-align: top;\n",
       "    }\n",
       "\n",
       "    .dataframe thead th {\n",
       "        text-align: right;\n",
       "    }\n",
       "</style>\n",
       "<table border=\"1\" class=\"dataframe\">\n",
       "  <thead>\n",
       "    <tr style=\"text-align: right;\">\n",
       "      <th></th>\n",
       "      <th>column name</th>\n",
       "      <th>data type</th>\n",
       "    </tr>\n",
       "  </thead>\n",
       "  <tbody>\n",
       "    <tr>\n",
       "      <th>0</th>\n",
       "      <td>msno</td>\n",
       "      <td>string</td>\n",
       "    </tr>\n",
       "    <tr>\n",
       "      <th>1</th>\n",
       "      <td>is_churn</td>\n",
       "      <td>double</td>\n",
       "    </tr>\n",
       "    <tr>\n",
       "      <th>2</th>\n",
       "      <td>payment_method_id</td>\n",
       "      <td>string</td>\n",
       "    </tr>\n",
       "    <tr>\n",
       "      <th>3</th>\n",
       "      <td>is_auto_renew</td>\n",
       "      <td>string</td>\n",
       "    </tr>\n",
       "    <tr>\n",
       "      <th>4</th>\n",
       "      <td>number_transactions</td>\n",
       "      <td>bigint</td>\n",
       "    </tr>\n",
       "    <tr>\n",
       "      <th>5</th>\n",
       "      <td>avg_payment_plan_days</td>\n",
       "      <td>double</td>\n",
       "    </tr>\n",
       "    <tr>\n",
       "      <th>6</th>\n",
       "      <td>avg_plan_list_price</td>\n",
       "      <td>double</td>\n",
       "    </tr>\n",
       "    <tr>\n",
       "      <th>7</th>\n",
       "      <td>avg_actual_amount_paid</td>\n",
       "      <td>double</td>\n",
       "    </tr>\n",
       "    <tr>\n",
       "      <th>8</th>\n",
       "      <td>active_days</td>\n",
       "      <td>bigint</td>\n",
       "    </tr>\n",
       "    <tr>\n",
       "      <th>9</th>\n",
       "      <td>avg_num_25</td>\n",
       "      <td>double</td>\n",
       "    </tr>\n",
       "    <tr>\n",
       "      <th>10</th>\n",
       "      <td>avg_num_50</td>\n",
       "      <td>double</td>\n",
       "    </tr>\n",
       "    <tr>\n",
       "      <th>11</th>\n",
       "      <td>avg_num_75</td>\n",
       "      <td>double</td>\n",
       "    </tr>\n",
       "    <tr>\n",
       "      <th>12</th>\n",
       "      <td>avg_num_985</td>\n",
       "      <td>double</td>\n",
       "    </tr>\n",
       "    <tr>\n",
       "      <th>13</th>\n",
       "      <td>avg_num_100</td>\n",
       "      <td>double</td>\n",
       "    </tr>\n",
       "    <tr>\n",
       "      <th>14</th>\n",
       "      <td>avg_total_secs</td>\n",
       "      <td>double</td>\n",
       "    </tr>\n",
       "    <tr>\n",
       "      <th>15</th>\n",
       "      <td>num_25</td>\n",
       "      <td>bigint</td>\n",
       "    </tr>\n",
       "    <tr>\n",
       "      <th>16</th>\n",
       "      <td>num_50</td>\n",
       "      <td>bigint</td>\n",
       "    </tr>\n",
       "    <tr>\n",
       "      <th>17</th>\n",
       "      <td>num_75</td>\n",
       "      <td>bigint</td>\n",
       "    </tr>\n",
       "    <tr>\n",
       "      <th>18</th>\n",
       "      <td>num_985</td>\n",
       "      <td>bigint</td>\n",
       "    </tr>\n",
       "    <tr>\n",
       "      <th>19</th>\n",
       "      <td>num_100</td>\n",
       "      <td>bigint</td>\n",
       "    </tr>\n",
       "    <tr>\n",
       "      <th>20</th>\n",
       "      <td>num_unq</td>\n",
       "      <td>bigint</td>\n",
       "    </tr>\n",
       "    <tr>\n",
       "      <th>21</th>\n",
       "      <td>total_secs</td>\n",
       "      <td>double</td>\n",
       "    </tr>\n",
       "    <tr>\n",
       "      <th>22</th>\n",
       "      <td>city</td>\n",
       "      <td>string</td>\n",
       "    </tr>\n",
       "    <tr>\n",
       "      <th>23</th>\n",
       "      <td>bd</td>\n",
       "      <td>bigint</td>\n",
       "    </tr>\n",
       "    <tr>\n",
       "      <th>24</th>\n",
       "      <td>gender</td>\n",
       "      <td>string</td>\n",
       "    </tr>\n",
       "    <tr>\n",
       "      <th>25</th>\n",
       "      <td>registered_via</td>\n",
       "      <td>string</td>\n",
       "    </tr>\n",
       "  </tbody>\n",
       "</table>\n",
       "</div>"
      ],
      "text/plain": [
       "               column name data type\n",
       "0                     msno    string\n",
       "1                 is_churn    double\n",
       "2        payment_method_id    string\n",
       "3            is_auto_renew    string\n",
       "4      number_transactions    bigint\n",
       "5    avg_payment_plan_days    double\n",
       "6      avg_plan_list_price    double\n",
       "7   avg_actual_amount_paid    double\n",
       "8              active_days    bigint\n",
       "9               avg_num_25    double\n",
       "10              avg_num_50    double\n",
       "11              avg_num_75    double\n",
       "12             avg_num_985    double\n",
       "13             avg_num_100    double\n",
       "14          avg_total_secs    double\n",
       "15                  num_25    bigint\n",
       "16                  num_50    bigint\n",
       "17                  num_75    bigint\n",
       "18                 num_985    bigint\n",
       "19                 num_100    bigint\n",
       "20                 num_unq    bigint\n",
       "21              total_secs    double\n",
       "22                    city    string\n",
       "23                      bd    bigint\n",
       "24                  gender    string\n",
       "25          registered_via    string"
      ]
     },
     "execution_count": 50,
     "metadata": {
      "tags": []
     },
     "output_type": "execute_result"
    }
   ],
   "source": [
    "# final dataset columns overview\n",
    "print(\"Final train dataset overview\")\n",
    "pd.DataFrame(df_train.dtypes, columns = ['column name','data type'])"
   ]
  },
  {
   "cell_type": "markdown",
   "metadata": {
    "id": "WVv7glFAvZmu"
   },
   "source": [
    "**Training and testing set count**"
   ]
  },
  {
   "cell_type": "code",
   "execution_count": null,
   "metadata": {
    "id": "PyX0fZw3vZmu",
    "outputId": "2d8fb75d-8a3b-4ab4-8479-9b24c447d15a"
   },
   "outputs": [
    {
     "data": {
      "text/plain": [
       "725722"
      ]
     },
     "execution_count": 57,
     "metadata": {
      "tags": []
     },
     "output_type": "execute_result"
    }
   ],
   "source": [
    "# training set count\n",
    "df_train.count()"
   ]
  },
  {
   "cell_type": "markdown",
   "metadata": {
    "id": "V6QZPKHEvZmu"
   },
   "source": [
    "# 3. Model Development - Random Forest "
   ]
  },
  {
   "cell_type": "code",
   "execution_count": null,
   "metadata": {
    "id": "1U8MOhbEvZmu"
   },
   "outputs": [],
   "source": [
    "from pyspark.ml.feature import OneHotEncoder, StringIndexer, VectorAssembler\n",
    "from pyspark.ml import Pipeline\n",
    "from pyspark.ml.classification import RandomForestClassifier\n",
    "from pyspark.ml.tuning import ParamGridBuilder\n",
    "from pyspark.ml.tuning import CrossValidator\n",
    "from pyspark.ml.evaluation import BinaryClassificationEvaluator\n",
    "from pyspark.mllib.evaluation import BinaryClassificationMetrics, MulticlassMetrics"
   ]
  },
  {
   "cell_type": "markdown",
   "metadata": {
    "id": "1WEAXJyTvZmv"
   },
   "source": [
    "**Downsample the majority class to mitigate dataset imbalance**"
   ]
  },
  {
   "cell_type": "code",
   "execution_count": null,
   "metadata": {
    "id": "qZ9arzbNvZmv",
    "outputId": "96cd25ee-c8b1-404a-c3e4-cdf2b0420ddd"
   },
   "outputs": [
    {
     "name": "stdout",
     "output_type": "stream",
     "text": [
      "Not churn:  679119\n",
      "Churn:  46603\n"
     ]
    }
   ],
   "source": [
    "# Check distribution of is_churn\n",
    "print(\"Not churn: \", df_train.filter(df_train.is_churn == 0).count())\n",
    "print(\"Churn: \", df_train.filter(df_train.is_churn == 1).count())"
   ]
  },
  {
   "cell_type": "code",
   "execution_count": null,
   "metadata": {
    "id": "4UHrnLCUvZmv"
   },
   "outputs": [],
   "source": [
    "df_train_major = df_train.filter(df_train.is_churn == 0)\n",
    "df_train_minor = df_train.filter(df_train.is_churn == 1)\n",
    "\n",
    "# Downsample majority using 10% of data to achieve 60/40 notchurn/churn balance\n",
    "df_train_major_downsample = df_train_major.sample(withReplacement = False, fraction = 0.1, seed = 42) \n",
    "\n",
    "# Get the balanced dataset \n",
    "df_train_balanced = df_train_major_downsample.union(df_train_minor)"
   ]
  },
  {
   "cell_type": "code",
   "execution_count": null,
   "metadata": {
    "id": "_HEv1OczvZmv",
    "outputId": "157ddcb5-b804-439c-941b-e7424de1cfe9"
   },
   "outputs": [
    {
     "name": "stdout",
     "output_type": "stream",
     "text": [
      "Not churn:  68086\n",
      "Churn:  46603\n"
     ]
    }
   ],
   "source": [
    "# Check distribution of is_churn after balancing\n",
    "print(\"Not churn: \", df_train_balanced.filter(df_train_balanced.is_churn == 0).count())\n",
    "print(\"Churn: \", df_train_balanced.filter(df_train_balanced.is_churn == 1).count())"
   ]
  },
  {
   "cell_type": "markdown",
   "metadata": {
    "id": "LhvfO52vvZmv"
   },
   "source": [
    "**Build Feature Transformation Pipeline**"
   ]
  },
  {
   "cell_type": "code",
   "execution_count": null,
   "metadata": {
    "id": "GLEKz_-ZvZmv"
   },
   "outputs": [],
   "source": [
    "# Build stages for pipeline \n",
    "\n",
    "# input stage\n",
    "cat_cols = ['payment_method_id', 'city', 'gender', 'registered_via', 'is_auto_renew']\n",
    "numericCols = list(set(df_train.columns) - set(cat_cols) - set([\"msno\", \"is_churn\"]))\n",
    "\n",
    "# One-hot encoding for categorical features\n",
    "indexers = [\n",
    "    StringIndexer(inputCol=c, outputCol=\"{0}_indexed\".format(c)).setHandleInvalid(\"keep\")\n",
    "    for c in cat_cols\n",
    "]\n",
    "\n",
    "encoders = [OneHotEncoder(dropLast=False,inputCol=indexer.getOutputCol(),\n",
    "            outputCol=\"{0}_encoded\".format(indexer.getOutputCol())) \n",
    "    for indexer in indexers\n",
    "]\n",
    "\n",
    "# assemble inputs\n",
    "assemblerInputs = [encoder.getOutputCol() for encoder in encoders] + numericCols\n",
    "assembler = VectorAssembler(inputCols=assemblerInputs, outputCol=\"features\")\n",
    "\n",
    "pipeline = Pipeline(stages = indexers + encoders + [assembler])"
   ]
  },
  {
   "cell_type": "markdown",
   "metadata": {
    "id": "UMMG4jKEvZmv"
   },
   "source": [
    "**Fit balanced data to feature transformation pipeline**"
   ]
  },
  {
   "cell_type": "code",
   "execution_count": null,
   "metadata": {
    "id": "pyA-D0hbvZmw"
   },
   "outputs": [],
   "source": [
    "pipelineModel = pipeline.fit(df_train_balanced)\n",
    "df_train_balanced = pipelineModel.transform(df_train_balanced)"
   ]
  },
  {
   "cell_type": "markdown",
   "metadata": {
    "id": "DnrO0Gz5vZmw"
   },
   "source": [
    "**Randome Split data to training and validation sets**"
   ]
  },
  {
   "cell_type": "code",
   "execution_count": null,
   "metadata": {
    "id": "CbN7eEr1vZmw"
   },
   "outputs": [],
   "source": [
    "_train, _valid = df_train_balanced.randomSplit([0.8, 0.2], seed = 42)"
   ]
  },
  {
   "cell_type": "markdown",
   "metadata": {
    "id": "UsLQtHspvZmw"
   },
   "source": [
    "**Set up Cross Validation**"
   ]
  },
  {
   "cell_type": "code",
   "execution_count": null,
   "metadata": {
    "id": "pLAv8BQxvZmw"
   },
   "outputs": [],
   "source": [
    "# define estimator \n",
    "rf = RandomForestClassifier(featuresCol = 'features', labelCol = 'is_churn')\n",
    "\n",
    "# define parameter grid\n",
    "paramGrid = ParamGridBuilder() \\\n",
    "    .addGrid(rf.numTrees, [int(x) for x in [50, 100, 500, 1000]])\\\n",
    "    .addGrid(rf.maxDepth, [int(x) for x in [5, 10, 30]]) \\\n",
    "    .build()\n",
    "\n",
    "# define cross validation\n",
    "crossval = CrossValidator(estimator=rf,\n",
    "                          estimatorParamMaps=paramGrid,\n",
    "                          evaluator=BinaryClassificationEvaluator(labelCol='is_churn'),\n",
    "                          numFolds=3)"
   ]
  },
  {
   "cell_type": "markdown",
   "metadata": {
    "id": "jLTxy0lRvZmw"
   },
   "source": [
    "**Fit training data with cross validation**"
   ]
  },
  {
   "cell_type": "code",
   "execution_count": null,
   "metadata": {
    "id": "Z9IbK0M8vZmw"
   },
   "outputs": [],
   "source": [
    "model_rf = crossval.fit(_train)"
   ]
  },
  {
   "cell_type": "markdown",
   "metadata": {
    "id": "4vG4GVS0vZmw"
   },
   "source": [
    "**Evaluate model with out-of-sample validation data**"
   ]
  },
  {
   "cell_type": "code",
   "execution_count": null,
   "metadata": {
    "id": "eExiCYB6vZmw"
   },
   "outputs": [],
   "source": [
    "predictions = model_rf.transform(_valid)"
   ]
  },
  {
   "cell_type": "code",
   "execution_count": null,
   "metadata": {
    "id": "YlUAQ6ncvZmx",
    "outputId": "70af324b-512d-4302-8f34-e09aaabc6e2e"
   },
   "outputs": [
    {
     "name": "stdout",
     "output_type": "stream",
     "text": [
      "Accuracy: 0.910296067357127\n",
      "Test Area Under ROC: 0.9075348086730599\n"
     ]
    }
   ],
   "source": [
    "rfevaluator = BinaryClassificationEvaluator(labelCol='is_churn')\n",
    "print('Accuracy:', rfevaluator.evaluate(predictions))\n",
    "print(\"Test Area Under ROC: \" + str(rfevaluator.evaluate(predictions, {rfevaluator.metricName: \"areaUnderROC\"})))"
   ]
  },
  {
   "cell_type": "markdown",
   "metadata": {
    "id": "1aia3tk5vZmx"
   },
   "source": [
    "Our model achieved good accuracy. The best model returned from Cross Validation yields 0.91 accuracy and 0.91 AUC. Now we can proceed to deploy our model. "
   ]
  },
  {
   "cell_type": "markdown",
   "metadata": {
    "id": "YXFIzRr6vZmx"
   },
   "source": [
    "**Study feature importance based on our final model**"
   ]
  },
  {
   "cell_type": "code",
   "execution_count": null,
   "metadata": {
    "id": "juEubH3fvZmx"
   },
   "outputs": [],
   "source": [
    "# Load feature importance from our final model \n",
    "feature_importance = model_rf.featureImportances"
   ]
  },
  {
   "cell_type": "code",
   "execution_count": null,
   "metadata": {
    "id": "6aohbRQ_vZmx"
   },
   "outputs": [],
   "source": [
    "# Define function to save feature importance as a dataframe\n",
    "def FeatureImportance(feature_importance, df, featuresCol):\n",
    "    list_ = []\n",
    "    for i in df.schema[featuresCol].metadata[\"ml_attr\"][\"attrs\"]:\n",
    "        list_ = list_ + df.schema[featuresCol].metadata[\"ml_attr\"][\"attrs\"][i]\n",
    "    varlist = pd.DataFrame(list_)\n",
    "    varlist['score'] = varlist['idx'].apply(lambda x: feature_importance[x])\n",
    "    return(varlist.sort_values('score', ascending = False))"
   ]
  },
  {
   "cell_type": "code",
   "execution_count": null,
   "metadata": {
    "id": "I7wqPWt2vZmx"
   },
   "outputs": [],
   "source": [
    "# Process and clean feature importance\n",
    "feature_importance_list = FeatureImportance(feature_importance, predictions, model_rf.getFeaturesCol())"
   ]
  },
  {
   "cell_type": "code",
   "execution_count": null,
   "metadata": {
    "id": "wpxr85rZvZmx",
    "outputId": "e3f6d463-b24e-411a-a299-fb3d17be0786"
   },
   "outputs": [
    {
     "data": {
      "text/html": [
       "<div>\n",
       "<style scoped>\n",
       "    .dataframe tbody tr th:only-of-type {\n",
       "        vertical-align: middle;\n",
       "    }\n",
       "\n",
       "    .dataframe tbody tr th {\n",
       "        vertical-align: top;\n",
       "    }\n",
       "\n",
       "    .dataframe thead th {\n",
       "        text-align: right;\n",
       "    }\n",
       "</style>\n",
       "<table border=\"1\" class=\"dataframe\">\n",
       "  <thead>\n",
       "    <tr style=\"text-align: right;\">\n",
       "      <th></th>\n",
       "      <th>idx</th>\n",
       "      <th>name</th>\n",
       "      <th>score</th>\n",
       "    </tr>\n",
       "  </thead>\n",
       "  <tbody>\n",
       "    <tr>\n",
       "      <th>9</th>\n",
       "      <td>78</td>\n",
       "      <td>number_transactions</td>\n",
       "      <td>0.203047</td>\n",
       "    </tr>\n",
       "    <tr>\n",
       "      <th>8</th>\n",
       "      <td>77</td>\n",
       "      <td>avg_payment_plan_days</td>\n",
       "      <td>0.137902</td>\n",
       "    </tr>\n",
       "    <tr>\n",
       "      <th>0</th>\n",
       "      <td>69</td>\n",
       "      <td>avg_plan_list_price</td>\n",
       "      <td>0.125857</td>\n",
       "    </tr>\n",
       "    <tr>\n",
       "      <th>16</th>\n",
       "      <td>85</td>\n",
       "      <td>avg_actual_amount_paid</td>\n",
       "      <td>0.123009</td>\n",
       "    </tr>\n",
       "    <tr>\n",
       "      <th>86</th>\n",
       "      <td>67</td>\n",
       "      <td>is_auto_renew_indexed_encoded_0</td>\n",
       "      <td>0.104777</td>\n",
       "    </tr>\n",
       "    <tr>\n",
       "      <th>...</th>\n",
       "      <td>...</td>\n",
       "      <td>...</td>\n",
       "      <td>...</td>\n",
       "    </tr>\n",
       "    <tr>\n",
       "      <th>78</th>\n",
       "      <td>59</td>\n",
       "      <td>gender_indexed_encoded___unknown</td>\n",
       "      <td>0.000000</td>\n",
       "    </tr>\n",
       "    <tr>\n",
       "      <th>51</th>\n",
       "      <td>32</td>\n",
       "      <td>payment_method_id_indexed_encoded_6</td>\n",
       "      <td>0.000000</td>\n",
       "    </tr>\n",
       "    <tr>\n",
       "      <th>49</th>\n",
       "      <td>30</td>\n",
       "      <td>payment_method_id_indexed_encoded_3</td>\n",
       "      <td>0.000000</td>\n",
       "    </tr>\n",
       "    <tr>\n",
       "      <th>74</th>\n",
       "      <td>55</td>\n",
       "      <td>city_indexed_encoded___unknown</td>\n",
       "      <td>0.000000</td>\n",
       "    </tr>\n",
       "    <tr>\n",
       "      <th>87</th>\n",
       "      <td>68</td>\n",
       "      <td>is_auto_renew_indexed_encoded___unknown</td>\n",
       "      <td>0.000000</td>\n",
       "    </tr>\n",
       "  </tbody>\n",
       "</table>\n",
       "<p>88 rows × 3 columns</p>\n",
       "</div>"
      ],
      "text/plain": [
       "    idx                                     name     score\n",
       "9    78                      number_transactions  0.203047\n",
       "8    77                    avg_payment_plan_days  0.137902\n",
       "0    69                      avg_plan_list_price  0.125857\n",
       "16   85                   avg_actual_amount_paid  0.123009\n",
       "86   67          is_auto_renew_indexed_encoded_0  0.104777\n",
       "..  ...                                      ...       ...\n",
       "78   59         gender_indexed_encoded___unknown  0.000000\n",
       "51   32      payment_method_id_indexed_encoded_6  0.000000\n",
       "49   30      payment_method_id_indexed_encoded_3  0.000000\n",
       "74   55           city_indexed_encoded___unknown  0.000000\n",
       "87   68  is_auto_renew_indexed_encoded___unknown  0.000000\n",
       "\n",
       "[88 rows x 3 columns]"
      ]
     },
     "execution_count": 91,
     "metadata": {
      "tags": []
     },
     "output_type": "execute_result"
    }
   ],
   "source": [
    "# Complete list of feature importance\n",
    "feature_importance_list"
   ]
  },
  {
   "cell_type": "code",
   "execution_count": null,
   "metadata": {
    "id": "7dt6Kzi-vZmx",
    "outputId": "9c0e4143-c795-47e6-f657-87784821f57f"
   },
   "outputs": [
    {
     "data": {
      "text/plain": [
       "Text(0, 0.5, 'FEATURE NAMES')"
      ]
     },
     "execution_count": 93,
     "metadata": {
      "tags": []
     },
     "output_type": "execute_result"
    },
    {
     "data": {
      "image/png": "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\n",
      "text/plain": [
       "<Figure size 720x576 with 1 Axes>"
      ]
     },
     "metadata": {
      "tags": []
     },
     "output_type": "display_data"
    }
   ],
   "source": [
    "# Plot Top 20 Feature Importance \n",
    "plt.figure(figsize=(10,8))\n",
    "\n",
    "top_20 = feature_importance_list.head(20)\n",
    "\n",
    "sns.barplot(x=top_20['score'], y=top_20['name'])\n",
    "\n",
    "plt.title('TOP 20 FEATURE IMPORTANCE')\n",
    "plt.xlabel('FEATURE IMPORTANCE')\n",
    "plt.ylabel('FEATURE NAMES')"
   ]
  },
  {
   "cell_type": "markdown",
   "metadata": {
    "id": "P0o9zHuuvZmy"
   },
   "source": [
    "# 4. Deploy final model to new, unseen data"
   ]
  },
  {
   "cell_type": "markdown",
   "metadata": {
    "id": "yRQyO6ZcvZmy"
   },
   "source": [
    "**Load the given unseen test dataset and get it ready for prediction**\n",
    "\n",
    "The test dataset is provided by Kaggle. This is the true, unseen test data. We will train the model using only the training dataset and deploy our model to this true test dataset. \n",
    "\n",
    "**The test dataset does not have the actual binary value of churn/not churn. The 'is_churn' column is just a dummy column.**\n",
    "\n",
    "We need to predict the **probability of churn** for each customer and use the log loss function to evaluate our deployed model.\n",
    "\n",
    "The log-loss is calculated by: $log loss = -\\frac{1}{N}\\sum_{i=1}^N {(y_i\\log(p_i) + (1 - y_i)\\log(1 - p_i))}$\n"
   ]
  },
  {
   "cell_type": "code",
   "execution_count": null,
   "metadata": {
    "id": "oNSCmQLrvZmy"
   },
   "outputs": [],
   "source": [
    "# Load test data from BigQuery.\n",
    "test_v2 = spark.read.format('bigquery') \\\n",
    "  .option('table', 'massive-mantra-310705:kkbox.test_v2') \\\n",
    "  .load()\n",
    "test_v2.createOrReplaceTempView('test_v2')"
   ]
  },
  {
   "cell_type": "code",
   "execution_count": null,
   "metadata": {
    "id": "JsXgR62-vZmy",
    "outputId": "361918a5-1d23-4989-ebf8-4f8738b0ce7d"
   },
   "outputs": [
    {
     "name": "stdout",
     "output_type": "stream",
     "text": [
      "root\n",
      " |-- msno: string (nullable = true)\n",
      " |-- is_churn: long (nullable = true)\n",
      "\n"
     ]
    }
   ],
   "source": [
    "# Validate Data\n",
    "test = spark.sql(\n",
    "    'SELECT * FROM test_v2 ORDER BY msno')\n",
    "test.printSchema()"
   ]
  },
  {
   "cell_type": "code",
   "execution_count": null,
   "metadata": {
    "id": "RLEFGHdUvZmy"
   },
   "outputs": [],
   "source": [
    "temp1 = test.join(transaction_transform, test.msno == transaction_transform.msno, \"left\").drop(transaction_transform.msno)\n",
    "\n",
    "temp2 = temp1.join(user_logs_transformed, temp1.msno == user_logs_transformed.msno, \"left\").drop(user_logs_transformed.msno)\n",
    "\n",
    "df_test = temp2.join(members, temp2.msno == members.msno, \"left\").drop(members.msno)"
   ]
  },
  {
   "cell_type": "code",
   "execution_count": null,
   "metadata": {
    "id": "IGXmTGiCvZmy"
   },
   "outputs": [],
   "source": [
    "# Set binary values to string, set label to double \n",
    "df_test = df_test.withColumn(\"is_churn\", df_test[\"is_churn\"].cast(DoubleType()))\n",
    "df_test = df_test.withColumn(\"is_auto_renew\", df_test[\"is_auto_renew\"].cast(StringType()))"
   ]
  },
  {
   "cell_type": "code",
   "execution_count": null,
   "metadata": {
    "id": "K1fYOTHEvZmy",
    "outputId": "40cf1b1e-6ce5-4999-aaeb-aaa2d7fd4167"
   },
   "outputs": [
    {
     "data": {
      "text/plain": [
       "907471"
      ]
     },
     "execution_count": 124,
     "metadata": {
      "tags": []
     },
     "output_type": "execute_result"
    }
   ],
   "source": [
    "# Test set count\n",
    "df_test.count()"
   ]
  },
  {
   "cell_type": "code",
   "execution_count": null,
   "metadata": {
    "id": "oeuzDu5dvZmz"
   },
   "outputs": [],
   "source": [
    "df_test = df_test.na.fill('0')\n",
    "df_test = df_test.na.fill(0)"
   ]
  },
  {
   "cell_type": "code",
   "execution_count": null,
   "metadata": {
    "id": "5Y5j6CaSvZmz"
   },
   "outputs": [],
   "source": [
    "# Transform test data through pipeline\n",
    "pipelineModel = pipeline.fit(df_test)\n",
    "df_test = pipelineModel.transform(df_test)"
   ]
  },
  {
   "cell_type": "code",
   "execution_count": null,
   "metadata": {
    "id": "n-x7eRiwvZmz"
   },
   "outputs": [],
   "source": [
    "# Make prediction\n",
    "prediction_final = model_rf.transform(df_test)"
   ]
  },
  {
   "cell_type": "code",
   "execution_count": null,
   "metadata": {
    "id": "VUhJV8y2vZmz"
   },
   "outputs": [],
   "source": [
    "output = prediction_final.select(\"msno\", 'rawPrediction', 'probability', 'prediction')"
   ]
  },
  {
   "cell_type": "code",
   "execution_count": null,
   "metadata": {
    "id": "q5jmNBvHvZmz"
   },
   "outputs": [],
   "source": [
    "# define a function to extract probability of churn\n",
    "def extract_prob(p):\n",
    "    try:\n",
    "        return float(p[1]) \n",
    "    except ValueError:\n",
    "        return None\n",
    "extract_prob_udf = udf(extract_prob, DoubleType())"
   ]
  },
  {
   "cell_type": "code",
   "execution_count": null,
   "metadata": {
    "id": "1Ty9wiXBvZmz"
   },
   "outputs": [],
   "source": [
    "# Extract probability of churn\n",
    "output = output.withColumn(\"is_churn\", extract_prob_udf(col(\"probability\")))"
   ]
  },
  {
   "cell_type": "code",
   "execution_count": null,
   "metadata": {
    "id": "pmX1PQcovZmz"
   },
   "outputs": [],
   "source": [
    "output = output.select('msno', 'is_churn')"
   ]
  },
  {
   "cell_type": "code",
   "execution_count": null,
   "metadata": {
    "id": "KO2Fs25CvZmz",
    "outputId": "07f56d8e-c280-4808-e397-68ab931b5c02"
   },
   "outputs": [
    {
     "name": "stdout",
     "output_type": "stream",
     "text": [
      "+--------------------+-----------+\n",
      "|                msno|   is_churn|\n",
      "+--------------------+-----------+\n",
      "|4n+fXlyJvfQnTeKXT...|0.009189846|\n",
      "|aNmbC1GvFUxQyQUid...|0.033160413|\n",
      "|rFC9eSG/tMuzpre6c...|0.016693491|\n",
      "|WZ59dLyrQcE7ft06M...|0.022741729|\n",
      "|aky/Iv8hMp1/V/yQH...|0.020480014|\n",
      "|nu1jZ/flvSaXRg0U9...|0.130939352|\n",
      "|biDTtgK83fEWXJDax...|0.079622871|\n",
      "|k/8uwi/iM9LZmRAIW...|0.022741729|\n",
      "|18rQ/746SjA6nBx32...|0.082704117|\n",
      "|2V13OCoWx6vqKr/Zz...|0.122528715|\n",
      "|1l/ZwduFxS/q/hZey...|0.008684121|\n",
      "|azfnO16ZeQsbJF6Lc...|0.022741729|\n",
      "|RPOzeEr8mSbhj6wrF...|0.129046911|\n",
      "|NAzfjSM2EOyFhV4rI...|0.017748029|\n",
      "|1DCd06ON0rWFHI1bN...|0.012049142|\n",
      "|D9QAV8ZNF8qU96dTB...|0.008814155|\n",
      "|5HKzLDUVVbIxWMH9a...|0.188452264|\n",
      "|XwnlNj6nq2MMHe0Ko...|0.011237747|\n",
      "|lNmNPLZZiMwVbRFdB...|0.022741729|\n",
      "|5NlNga4bsKiYyj3B3...| 0.00442545|\n",
      "+--------------------+-----------+\n",
      "only showing top 20 rows\n",
      "\n"
     ]
    }
   ],
   "source": [
    "output.show()"
   ]
  },
  {
   "cell_type": "code",
   "execution_count": null,
   "metadata": {
    "id": "ST3_RATivZm0"
   },
   "outputs": [],
   "source": [
    "# Generate deployable result\n",
    "gcs_bucket = 'bax423'\n",
    "gcs_filepath = 'gs://{}/output.csv'.format(gcs_bucket)\n",
    "\n",
    "output.coalesce(1).write \\\n",
    "  .mode('overwrite') \\\n",
    "  .csv(gcs_filepath)"
   ]
  },
  {
   "cell_type": "markdown",
   "metadata": {
    "id": "ODgWcEXXvZm0"
   },
   "source": [
    "**Evaluation Result**"
   ]
  },
  {
   "cell_type": "markdown",
   "metadata": {
    "id": "qVAqTYGWvZm0"
   },
   "source": [
    "Evaluation is provided by Kaggle. In a real world scenario, we will get the unseen test data from our stakeholder.\n",
    "\n",
    "Our model yielded a log loss of 0.13543 per Kaggle's calculation. \n",
    "\n",
    "Again, the log-loss is calculated by: $log loss = -\\frac{1}{N}\\sum_{i=1}^N {(y_i\\log(p_i) + (1 - y_i)\\log(1 - p_i))}$"
   ]
  }
 ],
 "metadata": {
  "colab": {
   "name": "BAX423 Final Project KKBOX Notebook.ipynb",
   "provenance": []
  },
  "kernelspec": {
   "display_name": "Python 3",
   "language": "python",
   "name": "python3"
  },
  "language_info": {
   "codemirror_mode": {
    "name": "ipython",
    "version": 3
   },
   "file_extension": ".py",
   "mimetype": "text/x-python",
   "name": "python",
   "nbconvert_exporter": "python",
   "pygments_lexer": "ipython3",
   "version": "3.8.8"
  }
 },
 "nbformat": 4,
 "nbformat_minor": 1
}
